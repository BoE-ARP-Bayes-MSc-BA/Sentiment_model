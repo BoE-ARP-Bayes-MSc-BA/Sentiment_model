{
  "cells": [
    {
      "cell_type": "markdown",
      "metadata": {
        "id": "jJCjimtP7Y9k"
      },
      "source": [
        "# 1. packages"
      ]
    },
    {
      "cell_type": "code",
      "execution_count": 50,
      "metadata": {
        "id": "BLxQm9ut44uC"
      },
      "outputs": [],
      "source": [
        "import numpy as np\n",
        "import pandas as pd\n",
        "\n",
        "import re\n",
        "import string \n",
        "\n",
        "from collections import Counter\n",
        "\n",
        "from sklearn.model_selection import train_test_split\n",
        "from sklearn.pipeline import Pipeline\n",
        "from sklearn.naive_bayes import MultinomialNB\n",
        "from sklearn.feature_extraction.text import CountVectorizer, TfidfTransformer\n",
        "from sklearn.metrics import confusion_matrix,classification_report, accuracy_score\n",
        "from sklearn.linear_model import LogisticRegression"
      ]
    },
    {
      "cell_type": "code",
      "execution_count": 13,
      "metadata": {
        "colab": {
          "base_uri": "https://localhost:8080/"
        },
        "id": "ldFnjKja4hn4",
        "outputId": "03a11873-2ccf-4cc8-c737-761b9d5889b3"
      },
      "outputs": [
        {
          "name": "stderr",
          "output_type": "stream",
          "text": [
            "[nltk_data] Downloading package twitter_samples to /root/nltk_data...\n",
            "[nltk_data]   Package twitter_samples is already up-to-date!\n",
            "[nltk_data] Downloading package stopwords to /root/nltk_data...\n",
            "[nltk_data]   Package stopwords is already up-to-date!\n"
          ]
        }
      ],
      "source": [
        "import nltk \n",
        "nltk.download('twitter_samples')\n",
        "from nltk.corpus import twitter_samples\n",
        "from nltk.corpus import stopwords          # module for stop words that come with NLTK\n",
        "nltk.download('stopwords')\n",
        "from nltk.stem import PorterStemmer        # module for stemming\n",
        "from nltk.tokenize import TweetTokenizer   # module for tokenizing strings"
      ]
    },
    {
      "cell_type": "markdown",
      "metadata": {
        "id": "iunjgx1U7d5U"
      },
      "source": [
        "# 2. prepare data"
      ]
    },
    {
      "cell_type": "code",
      "execution_count": 4,
      "metadata": {
        "colab": {
          "base_uri": "https://localhost:8080/"
        },
        "id": "oYvfU-ZO4rak",
        "outputId": "b9dec906-9296-46fa-f972-c90ae1a36541"
      },
      "outputs": [
        {
          "data": {
            "text/plain": [
              "['negative_tweets.json', 'positive_tweets.json', 'tweets.20150430-223406.json']"
            ]
          },
          "execution_count": 4,
          "metadata": {},
          "output_type": "execute_result"
        }
      ],
      "source": [
        "twitter_samples.fileids()"
      ]
    },
    {
      "cell_type": "code",
      "execution_count": 27,
      "metadata": {
        "colab": {
          "base_uri": "https://localhost:8080/"
        },
        "id": "0pbZIEVM7gL5",
        "outputId": "a20d82c5-df89-46a0-968e-1b51adcdbedd"
      },
      "outputs": [
        {
          "name": "stdout",
          "output_type": "stream",
          "text": [
            "There are 5000 negative sentences\n",
            "There are 5000 positive sentences\n"
          ]
        }
      ],
      "source": [
        "# documents\n",
        "docs_negative = [(t, \"neg\") for t in twitter_samples.strings(\"negative_tweets.json\")]\n",
        "docs_positive = [(t, \"pos\") for t in twitter_samples.strings(\"positive_tweets.json\")]\n",
        "print(f'There are {len(docs_negative)} negative sentences.')\n",
        "print(f'There are {len(docs_positive)} positive sentences.')"
      ]
    },
    {
      "cell_type": "code",
      "execution_count": 30,
      "metadata": {
        "id": "A4DqUiXg9BO1"
      },
      "outputs": [],
      "source": [
        "# spliting dataset \n",
        "train_set = docs_negative[:3500] + docs_positive[:3500]\n",
        "test_set = docs_negative[3500:4250] + docs_positive[3500:4250]\n",
        "valid_set = docs_negative[4250:] + docs_positive[4250:]"
      ]
    },
    {
      "cell_type": "code",
      "execution_count": 40,
      "metadata": {
        "id": "oXbyNau15TTA"
      },
      "outputs": [],
      "source": [
        "# clean text\n",
        "def process_text(text):\n",
        "    stemmer = PorterStemmer()\n",
        "    stopwords_english = stopwords.words('english')\n",
        "    #text = text.str\n",
        "    text = re.sub(r'\\$\\w*', '', text)\n",
        "    text = re.sub(r'^RT[\\s]+', '', text)\n",
        "    text = re.sub(r'https?:\\/\\/.*[\\r\\n]*', '', text)\n",
        "    text = re.sub(r'#', '', text)\n",
        "    tokenizer = TweetTokenizer(preserve_case=False, strip_handles=True,reduce_len=True)\n",
        "    text_tokens = tokenizer.tokenize(text)\n",
        "\n",
        "    text_clean = []\n",
        "    for word in text_tokens:\n",
        "        if (word not in stopwords_english and  \n",
        "                word not in string.punctuation): \n",
        "            stem_word = stemmer.stem(word)  # stemming word\n",
        "            text_clean.append(stem_word)\n",
        "            \n",
        "    sentence = ' '.join(text_clean)\n",
        "    \n",
        "    return sentence"
      ]
    },
    {
      "cell_type": "code",
      "execution_count": 37,
      "metadata": {
        "id": "7I_iyxV4-PHV"
      },
      "outputs": [],
      "source": [
        "def xy(dataset):\n",
        "  df = pd.DataFrame(dataset, columns = ['text', 'label'])\n",
        "  df['text_clean'] = df['text'].apply(lambda r: process_text(r))\n",
        "  df['categorical_label'] = df.label.factorize()[0]\n",
        "\n",
        "  x = df.text_clean\n",
        "  y = df.categorical_label\n",
        "\n",
        "  return x, y"
      ]
    },
    {
      "cell_type": "code",
      "execution_count": 41,
      "metadata": {
        "id": "bcokYxZq9x3-"
      },
      "outputs": [],
      "source": [
        "# dataframe\n",
        "x_train, y_train = xy(train_set)\n",
        "x_test, y_test = xy(test_set)\n",
        "x_valid, y_valid = xy(valid_set)"
      ]
    },
    {
      "cell_type": "markdown",
      "metadata": {
        "id": "65xcO6gbG_pA"
      },
      "source": [
        "# Naive Bayes"
      ]
    },
    {
      "cell_type": "code",
      "execution_count": 43,
      "metadata": {
        "id": "EoqWq5DDAIQs"
      },
      "outputs": [],
      "source": [
        "model = Pipeline([\n",
        "    ('bow',CountVectorizer()),  # strings to token integer counts\n",
        "    ('tfidf', TfidfTransformer()),  # integer counts to weighted TF-IDF scores\n",
        "    ('classifier', MultinomialNB()),  # train on TF-IDF vectors w/ Naive Bayes classifier\n",
        "])"
      ]
    },
    {
      "cell_type": "code",
      "execution_count": 44,
      "metadata": {
        "colab": {
          "base_uri": "https://localhost:8080/"
        },
        "id": "F592LZaKAITK",
        "outputId": "8e655e13-4b6d-44ee-fe97-aa121a1bd111"
      },
      "outputs": [
        {
          "data": {
            "text/plain": [
              "Pipeline(steps=[('bow', CountVectorizer()), ('tfidf', TfidfTransformer()),\n",
              "                ('classifier', MultinomialNB())])"
            ]
          },
          "execution_count": 44,
          "metadata": {},
          "output_type": "execute_result"
        }
      ],
      "source": [
        "model.fit(x_train, y_train)"
      ]
    },
    {
      "cell_type": "code",
      "execution_count": 48,
      "metadata": {
        "colab": {
          "base_uri": "https://localhost:8080/"
        },
        "id": "WcROg1lpAIVd",
        "outputId": "14bc1d59-902c-48a2-fe40-4402f57acad5"
      },
      "outputs": [
        {
          "name": "stdout",
          "output_type": "stream",
          "text": [
            "[[593 235]\n",
            " [157 515]]\n",
            "              precision    recall  f1-score   support\n",
            "\n",
            "           0       0.79      0.72      0.75       828\n",
            "           1       0.69      0.77      0.72       672\n",
            "\n",
            "    accuracy                           0.74      1500\n",
            "   macro avg       0.74      0.74      0.74      1500\n",
            "weighted avg       0.74      0.74      0.74      1500\n",
            "\n",
            "0.7386666666666667\n"
          ]
        }
      ],
      "source": [
        "y_pred = model.predict(x_test)\n",
        "print(confusion_matrix(y_pred,y_test))\n",
        "print(classification_report(y_pred,y_test))\n",
        "print(accuracy_score(y_pred,y_test))"
      ]
    }
  ],
  "metadata": {
    "colab": {
      "name": "tweeter_sample.ipynb",
      "provenance": []
    },
    "kernelspec": {
      "display_name": "Python 3",
      "name": "python3"
    },
    "language_info": {
      "name": "python"
    }
  },
  "nbformat": 4,
  "nbformat_minor": 0
}
