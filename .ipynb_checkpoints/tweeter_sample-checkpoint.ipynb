{
 "cells": [
  {
   "cell_type": "markdown",
   "metadata": {
    "id": "jJCjimtP7Y9k"
   },
   "source": [
    "# packages"
   ]
  },
  {
   "cell_type": "code",
   "execution_count": 1,
   "metadata": {
    "ExecuteTime": {
     "end_time": "2022-06-30T19:14:01.797760Z",
     "start_time": "2022-06-30T19:14:00.816180Z"
    },
    "id": "BLxQm9ut44uC"
   },
   "outputs": [],
   "source": [
    "import numpy as np\n",
    "import pandas as pd\n",
    "\n",
    "import re\n",
    "import string \n",
    "\n",
    "from collections import Counter\n",
    "\n",
    "from sklearn.model_selection import train_test_split\n",
    "from sklearn.pipeline import Pipeline\n",
    "from sklearn.naive_bayes import MultinomialNB\n",
    "from sklearn.feature_extraction.text import CountVectorizer, TfidfTransformer\n",
    "from sklearn.metrics import confusion_matrix,classification_report, accuracy_score\n",
    "from sklearn.linear_model import LogisticRegression"
   ]
  },
  {
   "cell_type": "code",
   "execution_count": 2,
   "metadata": {
    "ExecuteTime": {
     "end_time": "2022-06-30T19:14:15.480471Z",
     "start_time": "2022-06-30T19:14:01.798735Z"
    },
    "colab": {
     "base_uri": "https://localhost:8080/"
    },
    "id": "ldFnjKja4hn4",
    "outputId": "03a11873-2ccf-4cc8-c737-761b9d5889b3",
    "scrolled": true
   },
   "outputs": [
    {
     "name": "stderr",
     "output_type": "stream",
     "text": [
      "[nltk_data] Downloading package twitter_samples to\n",
      "[nltk_data]     /Users/hienanh/nltk_data...\n",
      "[nltk_data]   Package twitter_samples is already up-to-date!\n",
      "[nltk_data] Downloading package stopwords to\n",
      "[nltk_data]     /Users/hienanh/nltk_data...\n",
      "[nltk_data]   Package stopwords is already up-to-date!\n"
     ]
    }
   ],
   "source": [
    "import nltk \n",
    "nltk.download('twitter_samples')\n",
    "from nltk.corpus import twitter_samples\n",
    "from nltk.corpus import stopwords          # module for stop words that come with NLTK\n",
    "nltk.download('stopwords')\n",
    "from nltk.stem import PorterStemmer        # module for stemming\n",
    "from nltk.tokenize import TweetTokenizer   # module for tokenizing strings"
   ]
  },
  {
   "cell_type": "markdown",
   "metadata": {
    "id": "iunjgx1U7d5U"
   },
   "source": [
    "# prepare data"
   ]
  },
  {
   "cell_type": "code",
   "execution_count": 3,
   "metadata": {
    "ExecuteTime": {
     "end_time": "2022-06-30T19:14:15.487895Z",
     "start_time": "2022-06-30T19:14:15.482018Z"
    },
    "colab": {
     "base_uri": "https://localhost:8080/"
    },
    "id": "oYvfU-ZO4rak",
    "outputId": "b9dec906-9296-46fa-f972-c90ae1a36541"
   },
   "outputs": [
    {
     "data": {
      "text/plain": [
       "['negative_tweets.json', 'positive_tweets.json', 'tweets.20150430-223406.json']"
      ]
     },
     "execution_count": 3,
     "metadata": {},
     "output_type": "execute_result"
    }
   ],
   "source": [
    "twitter_samples.fileids()"
   ]
  },
  {
   "cell_type": "code",
   "execution_count": 4,
   "metadata": {
    "ExecuteTime": {
     "end_time": "2022-06-30T19:14:15.905801Z",
     "start_time": "2022-06-30T19:14:15.488807Z"
    },
    "colab": {
     "base_uri": "https://localhost:8080/"
    },
    "id": "0pbZIEVM7gL5",
    "outputId": "a20d82c5-df89-46a0-968e-1b51adcdbedd"
   },
   "outputs": [
    {
     "name": "stdout",
     "output_type": "stream",
     "text": [
      "There are 5000 negative sentences.\n",
      "There are 5000 positive sentences.\n"
     ]
    }
   ],
   "source": [
    "# documents\n",
    "docs_negative = [(t, \"neg\") for t in twitter_samples.strings(\"negative_tweets.json\")]\n",
    "docs_positive = [(t, \"pos\") for t in twitter_samples.strings(\"positive_tweets.json\")]\n",
    "print(f'There are {len(docs_negative)} negative sentences.')\n",
    "print(f'There are {len(docs_positive)} positive sentences.')"
   ]
  },
  {
   "cell_type": "code",
   "execution_count": 5,
   "metadata": {
    "ExecuteTime": {
     "end_time": "2022-06-30T19:14:15.908688Z",
     "start_time": "2022-06-30T19:14:15.906665Z"
    },
    "id": "A4DqUiXg9BO1"
   },
   "outputs": [],
   "source": [
    "# spliting dataset \n",
    "train_set = docs_negative[:3500] + docs_positive[:3500]\n",
    "test_set = docs_negative[3500:4250] + docs_positive[3500:4250]\n",
    "valid_set = docs_negative[4250:] + docs_positive[4250:]"
   ]
  },
  {
   "cell_type": "code",
   "execution_count": 101,
   "metadata": {
    "ExecuteTime": {
     "end_time": "2022-06-30T22:33:12.580632Z",
     "start_time": "2022-06-30T22:33:12.566015Z"
    },
    "id": "oXbyNau15TTA"
   },
   "outputs": [],
   "source": [
    "# clean text\n",
    "def process_text(text):\n",
    "    stemmer = PorterStemmer()\n",
    "    stopwords_english = stopwords.words('english')\n",
    "    #text = text.str\n",
    "    text = str(text)\n",
    "    text = re.sub(r'\\$\\w*', '', text)\n",
    "    text = re.sub(r'^RT[\\s]+', '', text)\n",
    "    text = re.sub(r'https?:\\/\\/.*[\\r\\n]*', '', text)\n",
    "    text = re.sub(r'#', '', text)\n",
    "    tokenizer = TweetTokenizer(preserve_case=False, strip_handles=True,reduce_len=True)\n",
    "    text_tokens = tokenizer.tokenize(text)\n",
    "\n",
    "    text_clean = []\n",
    "    for word in text_tokens:\n",
    "        if (word not in stopwords_english and  \n",
    "                word not in string.punctuation): \n",
    "            stem_word = stemmer.stem(word)  # stemming word\n",
    "            text_clean.append(stem_word)\n",
    "            \n",
    "    sentence = ' '.join(text_clean)\n",
    "    \n",
    "    return sentence\n",
    "\n",
    "# categorical label\n",
    "def cat_label(label):\n",
    "    if label == 'neg':\n",
    "        value = -1\n",
    "    elif label == 'pos':\n",
    "        value = 1\n",
    "    return value \n",
    "\n",
    "# split for x and y \n",
    "def xy(dataset):\n",
    "    df = pd.DataFrame(dataset, columns = ['text', 'label'])\n",
    "    df['text_clean'] = df['text'].apply(lambda r: process_text(r))\n",
    "    #df['categorical_label'] = df.label.factorize()[0]\n",
    "    df['categorical_label'] = df['label'].apply(lambda r: cat_label(r))\n",
    "\n",
    "    x = df.text_clean\n",
    "    y = df.categorical_label\n",
    "\n",
    "    return x, y"
   ]
  },
  {
   "cell_type": "code",
   "execution_count": 102,
   "metadata": {
    "ExecuteTime": {
     "end_time": "2022-06-30T22:33:15.530093Z",
     "start_time": "2022-06-30T22:33:13.063745Z"
    },
    "id": "bcokYxZq9x3-"
   },
   "outputs": [],
   "source": [
    "# dataframe\n",
    "x_train, y_train = xy(train_set)\n",
    "x_test, y_test = xy(test_set)\n",
    "x_valid, y_valid = xy(valid_set)"
   ]
  },
  {
   "cell_type": "markdown",
   "metadata": {
    "id": "65xcO6gbG_pA"
   },
   "source": [
    "# Naive Bayes"
   ]
  },
  {
   "cell_type": "code",
   "execution_count": 103,
   "metadata": {
    "ExecuteTime": {
     "end_time": "2022-06-30T22:33:16.880047Z",
     "start_time": "2022-06-30T22:33:16.875480Z"
    },
    "id": "EoqWq5DDAIQs"
   },
   "outputs": [],
   "source": [
    "model = Pipeline([\n",
    "    ('bow',CountVectorizer()),  # strings to token integer counts\n",
    "    ('tfidf', TfidfTransformer()),  # integer counts to weighted TF-IDF scores\n",
    "    ('classifier', MultinomialNB()),  # train on TF-IDF vectors w/ Naive Bayes classifier\n",
    "])"
   ]
  },
  {
   "cell_type": "code",
   "execution_count": 104,
   "metadata": {
    "ExecuteTime": {
     "end_time": "2022-06-30T22:33:18.018152Z",
     "start_time": "2022-06-30T22:33:17.857242Z"
    },
    "colab": {
     "base_uri": "https://localhost:8080/"
    },
    "id": "F592LZaKAITK",
    "outputId": "8e655e13-4b6d-44ee-fe97-aa121a1bd111"
   },
   "outputs": [
    {
     "data": {
      "text/plain": [
       "Pipeline(steps=[('bow', CountVectorizer()), ('tfidf', TfidfTransformer()),\n",
       "                ('classifier', MultinomialNB())])"
      ]
     },
     "execution_count": 104,
     "metadata": {},
     "output_type": "execute_result"
    }
   ],
   "source": [
    "model.fit(x_train, y_train)"
   ]
  },
  {
   "cell_type": "code",
   "execution_count": 105,
   "metadata": {
    "ExecuteTime": {
     "end_time": "2022-06-30T22:33:19.146896Z",
     "start_time": "2022-06-30T22:33:19.106468Z"
    },
    "colab": {
     "base_uri": "https://localhost:8080/"
    },
    "id": "WcROg1lpAIVd",
    "outputId": "14bc1d59-902c-48a2-fe40-4402f57acad5"
   },
   "outputs": [
    {
     "name": "stdout",
     "output_type": "stream",
     "text": [
      "[[593 235]\n",
      " [157 515]]\n",
      "              precision    recall  f1-score   support\n",
      "\n",
      "          -1       0.79      0.72      0.75       828\n",
      "           1       0.69      0.77      0.72       672\n",
      "\n",
      "    accuracy                           0.74      1500\n",
      "   macro avg       0.74      0.74      0.74      1500\n",
      "weighted avg       0.74      0.74      0.74      1500\n",
      "\n",
      "0.7386666666666667\n"
     ]
    }
   ],
   "source": [
    "y_pred = model.predict(x_test)\n",
    "print(confusion_matrix(y_pred,y_test))\n",
    "print(classification_report(y_pred,y_test))\n",
    "print(accuracy_score(y_pred,y_test))"
   ]
  },
  {
   "cell_type": "markdown",
   "metadata": {},
   "source": [
    "# Apply into earnings call sentence"
   ]
  },
  {
   "cell_type": "code",
   "execution_count": 114,
   "metadata": {
    "ExecuteTime": {
     "end_time": "2022-06-30T22:34:34.752755Z",
     "start_time": "2022-06-30T22:34:34.736085Z"
    }
   },
   "outputs": [
    {
     "data": {
      "text/html": [
       "<div>\n",
       "<style scoped>\n",
       "    .dataframe tbody tr th:only-of-type {\n",
       "        vertical-align: middle;\n",
       "    }\n",
       "\n",
       "    .dataframe tbody tr th {\n",
       "        vertical-align: top;\n",
       "    }\n",
       "\n",
       "    .dataframe thead th {\n",
       "        text-align: right;\n",
       "    }\n",
       "</style>\n",
       "<table border=\"1\" class=\"dataframe\">\n",
       "  <thead>\n",
       "    <tr style=\"text-align: right;\">\n",
       "      <th></th>\n",
       "      <th>sentence</th>\n",
       "      <th>participants</th>\n",
       "    </tr>\n",
       "  </thead>\n",
       "  <tbody>\n",
       "    <tr>\n",
       "      <th>0</th>\n",
       "      <td>Good morning, ladies and gentlemen</td>\n",
       "      <td>Operator</td>\n",
       "    </tr>\n",
       "    <tr>\n",
       "      <th>1</th>\n",
       "      <td>I welcome you to today's Hannover Re Internat...</td>\n",
       "      <td>Operator</td>\n",
       "    </tr>\n",
       "    <tr>\n",
       "      <th>2</th>\n",
       "      <td>For your information, this conference isbeing...</td>\n",
       "      <td>Operator</td>\n",
       "    </tr>\n",
       "    <tr>\n",
       "      <th>3</th>\n",
       "      <td>At this time, I would like to hand the call o...</td>\n",
       "      <td>Operator</td>\n",
       "    </tr>\n",
       "    <tr>\n",
       "      <th>4</th>\n",
       "      <td>JeanJacques Henchoz, Chief Executive Officer</td>\n",
       "      <td>Operator</td>\n",
       "    </tr>\n",
       "  </tbody>\n",
       "</table>\n",
       "</div>"
      ],
      "text/plain": [
       "                                            sentence participants\n",
       "0                 Good morning, ladies and gentlemen     Operator\n",
       "1   I welcome you to today's Hannover Re Internat...     Operator\n",
       "2   For your information, this conference isbeing...     Operator\n",
       "3   At this time, I would like to hand the call o...     Operator\n",
       "4       JeanJacques Henchoz, Chief Executive Officer     Operator"
      ]
     },
     "execution_count": 114,
     "metadata": {},
     "output_type": "execute_result"
    }
   ],
   "source": [
    "# import dataset\n",
    "path = '/Users/hienanh/Documents/GitHub/data_collecting/sentence_split_df.csv'\n",
    "df_sentence = pd.read_csv(path)\n",
    "df_sentence.head()"
   ]
  },
  {
   "cell_type": "code",
   "execution_count": 115,
   "metadata": {
    "ExecuteTime": {
     "end_time": "2022-06-30T22:34:35.086901Z",
     "start_time": "2022-06-30T22:34:35.083435Z"
    }
   },
   "outputs": [],
   "source": [
    "# drop participant columns as we dont need it\n",
    "df_sentence = df_sentence.drop(['participants'], axis=1)"
   ]
  },
  {
   "cell_type": "code",
   "execution_count": 116,
   "metadata": {
    "ExecuteTime": {
     "end_time": "2022-06-30T22:34:35.306180Z",
     "start_time": "2022-06-30T22:34:35.301506Z"
    }
   },
   "outputs": [
    {
     "name": "stdout",
     "output_type": "stream",
     "text": [
      "sentence    10\n",
      "dtype: int64\n"
     ]
    }
   ],
   "source": [
    "# check NaN values\n",
    "print(df_sentence.isnull().sum())\n",
    "\n",
    "# delete NaN rows\n",
    "df_sentence = df_sentence.dropna()  "
   ]
  },
  {
   "cell_type": "code",
   "execution_count": 117,
   "metadata": {
    "ExecuteTime": {
     "end_time": "2022-06-30T22:34:35.679095Z",
     "start_time": "2022-06-30T22:34:35.482834Z"
    }
   },
   "outputs": [
    {
     "data": {
      "text/html": [
       "<div>\n",
       "<style scoped>\n",
       "    .dataframe tbody tr th:only-of-type {\n",
       "        vertical-align: middle;\n",
       "    }\n",
       "\n",
       "    .dataframe tbody tr th {\n",
       "        vertical-align: top;\n",
       "    }\n",
       "\n",
       "    .dataframe thead th {\n",
       "        text-align: right;\n",
       "    }\n",
       "</style>\n",
       "<table border=\"1\" class=\"dataframe\">\n",
       "  <thead>\n",
       "    <tr style=\"text-align: right;\">\n",
       "      <th></th>\n",
       "      <th>sentence</th>\n",
       "      <th>text_clean</th>\n",
       "    </tr>\n",
       "  </thead>\n",
       "  <tbody>\n",
       "    <tr>\n",
       "      <th>0</th>\n",
       "      <td>Good morning, ladies and gentlemen</td>\n",
       "      <td>good morn ladi gentlemen</td>\n",
       "    </tr>\n",
       "    <tr>\n",
       "      <th>1</th>\n",
       "      <td>I welcome you to today's Hannover Re Internat...</td>\n",
       "      <td>welcom today' hannov internationalconfer call ...</td>\n",
       "    </tr>\n",
       "    <tr>\n",
       "      <th>2</th>\n",
       "      <td>For your information, this conference isbeing...</td>\n",
       "      <td>inform confer isb record</td>\n",
       "    </tr>\n",
       "    <tr>\n",
       "      <th>3</th>\n",
       "      <td>At this time, I would like to hand the call o...</td>\n",
       "      <td>time would like hand call host today mr</td>\n",
       "    </tr>\n",
       "    <tr>\n",
       "      <th>4</th>\n",
       "      <td>JeanJacques Henchoz, Chief Executive Officer</td>\n",
       "      <td>jeanjacqu henchoz chief execut offic</td>\n",
       "    </tr>\n",
       "  </tbody>\n",
       "</table>\n",
       "</div>"
      ],
      "text/plain": [
       "                                            sentence  \\\n",
       "0                 Good morning, ladies and gentlemen   \n",
       "1   I welcome you to today's Hannover Re Internat...   \n",
       "2   For your information, this conference isbeing...   \n",
       "3   At this time, I would like to hand the call o...   \n",
       "4       JeanJacques Henchoz, Chief Executive Officer   \n",
       "\n",
       "                                          text_clean  \n",
       "0                           good morn ladi gentlemen  \n",
       "1  welcom today' hannov internationalconfer call ...  \n",
       "2                           inform confer isb record  \n",
       "3            time would like hand call host today mr  \n",
       "4               jeanjacqu henchoz chief execut offic  "
      ]
     },
     "execution_count": 117,
     "metadata": {},
     "output_type": "execute_result"
    }
   ],
   "source": [
    "# clean text for sentiment analysis\n",
    "df_sentence['text_clean'] = df_sentence['sentence'].apply(lambda r: process_text(r))\n",
    "df_sentence.head(5)"
   ]
  },
  {
   "cell_type": "code",
   "execution_count": 118,
   "metadata": {
    "ExecuteTime": {
     "end_time": "2022-06-30T22:34:36.006139Z",
     "start_time": "2022-06-30T22:34:35.982728Z"
    }
   },
   "outputs": [
    {
     "data": {
      "text/html": [
       "<div>\n",
       "<style scoped>\n",
       "    .dataframe tbody tr th:only-of-type {\n",
       "        vertical-align: middle;\n",
       "    }\n",
       "\n",
       "    .dataframe tbody tr th {\n",
       "        vertical-align: top;\n",
       "    }\n",
       "\n",
       "    .dataframe thead th {\n",
       "        text-align: right;\n",
       "    }\n",
       "</style>\n",
       "<table border=\"1\" class=\"dataframe\">\n",
       "  <thead>\n",
       "    <tr style=\"text-align: right;\">\n",
       "      <th></th>\n",
       "      <th>sentence</th>\n",
       "      <th>text_clean</th>\n",
       "      <th>prediction_label</th>\n",
       "      <th>sentiment_score</th>\n",
       "    </tr>\n",
       "  </thead>\n",
       "  <tbody>\n",
       "    <tr>\n",
       "      <th>0</th>\n",
       "      <td>Good morning, ladies and gentlemen</td>\n",
       "      <td>good morn ladi gentlemen</td>\n",
       "      <td>positive</td>\n",
       "      <td>1</td>\n",
       "    </tr>\n",
       "    <tr>\n",
       "      <th>1</th>\n",
       "      <td>I welcome you to today's Hannover Re Internat...</td>\n",
       "      <td>welcom today' hannov internationalconfer call ...</td>\n",
       "      <td>positive</td>\n",
       "      <td>1</td>\n",
       "    </tr>\n",
       "    <tr>\n",
       "      <th>2</th>\n",
       "      <td>For your information, this conference isbeing...</td>\n",
       "      <td>inform confer isb record</td>\n",
       "      <td>negative</td>\n",
       "      <td>-1</td>\n",
       "    </tr>\n",
       "    <tr>\n",
       "      <th>3</th>\n",
       "      <td>At this time, I would like to hand the call o...</td>\n",
       "      <td>time would like hand call host today mr</td>\n",
       "      <td>negative</td>\n",
       "      <td>-1</td>\n",
       "    </tr>\n",
       "    <tr>\n",
       "      <th>4</th>\n",
       "      <td>JeanJacques Henchoz, Chief Executive Officer</td>\n",
       "      <td>jeanjacqu henchoz chief execut offic</td>\n",
       "      <td>negative</td>\n",
       "      <td>-1</td>\n",
       "    </tr>\n",
       "  </tbody>\n",
       "</table>\n",
       "</div>"
      ],
      "text/plain": [
       "                                            sentence  \\\n",
       "0                 Good morning, ladies and gentlemen   \n",
       "1   I welcome you to today's Hannover Re Internat...   \n",
       "2   For your information, this conference isbeing...   \n",
       "3   At this time, I would like to hand the call o...   \n",
       "4       JeanJacques Henchoz, Chief Executive Officer   \n",
       "\n",
       "                                          text_clean prediction_label  \\\n",
       "0                           good morn ladi gentlemen         positive   \n",
       "1  welcom today' hannov internationalconfer call ...         positive   \n",
       "2                           inform confer isb record         negative   \n",
       "3            time would like hand call host today mr         negative   \n",
       "4               jeanjacqu henchoz chief execut offic         negative   \n",
       "\n",
       "   sentiment_score  \n",
       "0                1  \n",
       "1                1  \n",
       "2               -1  \n",
       "3               -1  \n",
       "4               -1  "
      ]
     },
     "execution_count": 118,
     "metadata": {},
     "output_type": "execute_result"
    }
   ],
   "source": [
    "# making prediction\n",
    "prediction = model.predict(df_sentence.text_clean)\n",
    "prediction_label = np.array(['positive' if p==1 else 'negative' for p in prediction])\n",
    "df_sentence['prediction_label'] = prediction_label\n",
    "df_sentence['sentiment_score'] = prediction\n",
    "df_sentence.head()"
   ]
  },
  {
   "cell_type": "code",
   "execution_count": 124,
   "metadata": {
    "ExecuteTime": {
     "end_time": "2022-06-30T22:35:05.963346Z",
     "start_time": "2022-06-30T22:35:05.955045Z"
    }
   },
   "outputs": [
    {
     "data": {
      "text/plain": [
       "Counter({'positive': 355, 'negative': 238})"
      ]
     },
     "execution_count": 124,
     "metadata": {},
     "output_type": "execute_result"
    }
   ],
   "source": [
    "Counter(df_sentence['prediction_label'])"
   ]
  },
  {
   "cell_type": "code",
   "execution_count": 125,
   "metadata": {
    "ExecuteTime": {
     "end_time": "2022-06-30T22:37:26.906159Z",
     "start_time": "2022-06-30T22:37:26.881521Z"
    },
    "scrolled": true
   },
   "outputs": [
    {
     "data": {
      "text/html": [
       "<div>\n",
       "<style scoped>\n",
       "    .dataframe tbody tr th:only-of-type {\n",
       "        vertical-align: middle;\n",
       "    }\n",
       "\n",
       "    .dataframe tbody tr th {\n",
       "        vertical-align: top;\n",
       "    }\n",
       "\n",
       "    .dataframe thead th {\n",
       "        text-align: right;\n",
       "    }\n",
       "</style>\n",
       "<table border=\"1\" class=\"dataframe\">\n",
       "  <thead>\n",
       "    <tr style=\"text-align: right;\">\n",
       "      <th></th>\n",
       "      <th>sentence</th>\n",
       "      <th>prediction_label</th>\n",
       "      <th>sentiment_score</th>\n",
       "    </tr>\n",
       "  </thead>\n",
       "  <tbody>\n",
       "    <tr>\n",
       "      <th>0</th>\n",
       "      <td>Good morning, ladies and gentlemen</td>\n",
       "      <td>positive</td>\n",
       "      <td>1</td>\n",
       "    </tr>\n",
       "    <tr>\n",
       "      <th>1</th>\n",
       "      <td>I welcome you to today's Hannover Re Internat...</td>\n",
       "      <td>positive</td>\n",
       "      <td>1</td>\n",
       "    </tr>\n",
       "    <tr>\n",
       "      <th>2</th>\n",
       "      <td>For your information, this conference isbeing...</td>\n",
       "      <td>negative</td>\n",
       "      <td>-1</td>\n",
       "    </tr>\n",
       "    <tr>\n",
       "      <th>3</th>\n",
       "      <td>At this time, I would like to hand the call o...</td>\n",
       "      <td>negative</td>\n",
       "      <td>-1</td>\n",
       "    </tr>\n",
       "    <tr>\n",
       "      <th>4</th>\n",
       "      <td>JeanJacques Henchoz, Chief Executive Officer</td>\n",
       "      <td>negative</td>\n",
       "      <td>-1</td>\n",
       "    </tr>\n",
       "  </tbody>\n",
       "</table>\n",
       "</div>"
      ],
      "text/plain": [
       "                                            sentence prediction_label  \\\n",
       "0                 Good morning, ladies and gentlemen         positive   \n",
       "1   I welcome you to today's Hannover Re Internat...         positive   \n",
       "2   For your information, this conference isbeing...         negative   \n",
       "3   At this time, I would like to hand the call o...         negative   \n",
       "4       JeanJacques Henchoz, Chief Executive Officer         negative   \n",
       "\n",
       "   sentiment_score  \n",
       "0                1  \n",
       "1                1  \n",
       "2               -1  \n",
       "3               -1  \n",
       "4               -1  "
      ]
     },
     "execution_count": 125,
     "metadata": {},
     "output_type": "execute_result"
    }
   ],
   "source": [
    "df_final = df_sentence[['sentence', 'prediction_label', 'sentiment_score']]\n",
    "df_final.head(5) "
   ]
  },
  {
   "cell_type": "code",
   "execution_count": 128,
   "metadata": {
    "ExecuteTime": {
     "end_time": "2022-06-30T22:37:37.742562Z",
     "start_time": "2022-06-30T22:37:37.738513Z"
    }
   },
   "outputs": [],
   "source": [
    "def check(num):\n",
    "    print(df_final.sentence[num])\n",
    "    print(f'Prediction: {df_final.prediction_label[num]}')"
   ]
  },
  {
   "cell_type": "code",
   "execution_count": 129,
   "metadata": {
    "ExecuteTime": {
     "end_time": "2022-06-30T22:37:38.486865Z",
     "start_time": "2022-06-30T22:37:38.482445Z"
    }
   },
   "outputs": [
    {
     "name": "stdout",
     "output_type": "stream",
     "text": [
      " At this time, I would like to hand the call over to your host today, Mr\n",
      "Prediction: negative\n"
     ]
    }
   ],
   "source": [
    "check(3)"
   ]
  },
  {
   "cell_type": "code",
   "execution_count": 130,
   "metadata": {
    "ExecuteTime": {
     "end_time": "2022-06-30T22:37:39.464665Z",
     "start_time": "2022-06-30T22:37:39.460924Z"
    }
   },
   "outputs": [
    {
     "name": "stdout",
     "output_type": "stream",
     "text": [
      " Please go ahead, sir\n",
      "Prediction: negative\n"
     ]
    }
   ],
   "source": [
    "check(5)"
   ]
  },
  {
   "cell_type": "code",
   "execution_count": 131,
   "metadata": {
    "ExecuteTime": {
     "end_time": "2022-06-30T22:37:42.783899Z",
     "start_time": "2022-06-30T22:37:42.778956Z"
    }
   },
   "outputs": [
    {
     "name": "stdout",
     "output_type": "stream",
     "text": [
      " This means that we have already almost reached thelevel of EUR1\n",
      "Prediction: negative\n"
     ]
    }
   ],
   "source": [
    "check(100)"
   ]
  },
  {
   "cell_type": "code",
   "execution_count": 132,
   "metadata": {
    "ExecuteTime": {
     "end_time": "2022-06-30T22:37:45.774053Z",
     "start_time": "2022-06-30T22:37:45.769871Z"
    }
   },
   "outputs": [
    {
     "name": "stdout",
     "output_type": "stream",
     "text": [
      " Adjusted for this quarterly budget overrun, the technicalprofitability was, however, in line with our expectations\n",
      "Prediction: positive\n"
     ]
    }
   ],
   "source": [
    "check(50)"
   ]
  },
  {
   "cell_type": "code",
   "execution_count": 133,
   "metadata": {
    "ExecuteTime": {
     "end_time": "2022-06-30T22:37:46.474190Z",
     "start_time": "2022-06-30T22:37:46.470060Z"
    }
   },
   "outputs": [
    {
     "name": "stdout",
     "output_type": "stream",
     "text": [
      " The losses in South Africa wereparticularly significant in the third quarter, whereas the losses from the U\n",
      "Prediction: negative\n"
     ]
    }
   ],
   "source": [
    "check(120)"
   ]
  },
  {
   "cell_type": "markdown",
   "metadata": {},
   "source": [
    "# To paragraph"
   ]
  },
  {
   "cell_type": "code",
   "execution_count": 134,
   "metadata": {
    "ExecuteTime": {
     "end_time": "2022-06-30T22:37:51.407954Z",
     "start_time": "2022-06-30T22:37:51.384857Z"
    }
   },
   "outputs": [
    {
     "data": {
      "text/html": [
       "<div>\n",
       "<style scoped>\n",
       "    .dataframe tbody tr th:only-of-type {\n",
       "        vertical-align: middle;\n",
       "    }\n",
       "\n",
       "    .dataframe tbody tr th {\n",
       "        vertical-align: top;\n",
       "    }\n",
       "\n",
       "    .dataframe thead th {\n",
       "        text-align: right;\n",
       "    }\n",
       "</style>\n",
       "<table border=\"1\" class=\"dataframe\">\n",
       "  <thead>\n",
       "    <tr style=\"text-align: right;\">\n",
       "      <th></th>\n",
       "      <th>text</th>\n",
       "      <th>participants</th>\n",
       "    </tr>\n",
       "  </thead>\n",
       "  <tbody>\n",
       "    <tr>\n",
       "      <th>0</th>\n",
       "      <td>Good morning, ladies and gentlemen. I welcome ...</td>\n",
       "      <td>Operator</td>\n",
       "    </tr>\n",
       "    <tr>\n",
       "      <th>1</th>\n",
       "      <td>Well, good morning, everyone and welcome to ou...</td>\n",
       "      <td>Jean-Jacques Henchoz</td>\n",
       "    </tr>\n",
       "    <tr>\n",
       "      <th>2</th>\n",
       "      <td>Thank you very much, Clemens. On the next slid...</td>\n",
       "      <td>Jean-Jacques Henchoz</td>\n",
       "    </tr>\n",
       "    <tr>\n",
       "      <th>3</th>\n",
       "      <td>(Question And Answer)Ladies and gentlemen, we ...</td>\n",
       "      <td>Operator</td>\n",
       "    </tr>\n",
       "    <tr>\n",
       "      <th>4</th>\n",
       "      <td>Hi. Good morning, everyone. Could I just dig i...</td>\n",
       "      <td>Andrew Ritchie</td>\n",
       "    </tr>\n",
       "  </tbody>\n",
       "</table>\n",
       "</div>"
      ],
      "text/plain": [
       "                                                text          participants\n",
       "0  Good morning, ladies and gentlemen. I welcome ...              Operator\n",
       "1  Well, good morning, everyone and welcome to ou...  Jean-Jacques Henchoz\n",
       "2  Thank you very much, Clemens. On the next slid...  Jean-Jacques Henchoz\n",
       "3  (Question And Answer)Ladies and gentlemen, we ...              Operator\n",
       "4  Hi. Good morning, everyone. Could I just dig i...        Andrew Ritchie"
      ]
     },
     "execution_count": 134,
     "metadata": {},
     "output_type": "execute_result"
    }
   ],
   "source": [
    "# import dataset\n",
    "path_pata = '/Users/hienanh/Documents/GitHub/data_collecting/paragraph_split_df.csv'\n",
    "df_para = pd.read_csv(path_pata)\n",
    "df_para.head()"
   ]
  },
  {
   "cell_type": "code",
   "execution_count": 135,
   "metadata": {
    "ExecuteTime": {
     "end_time": "2022-06-30T22:37:52.095648Z",
     "start_time": "2022-06-30T22:37:52.083220Z"
    }
   },
   "outputs": [
    {
     "data": {
      "text/html": [
       "<div>\n",
       "<style scoped>\n",
       "    .dataframe tbody tr th:only-of-type {\n",
       "        vertical-align: middle;\n",
       "    }\n",
       "\n",
       "    .dataframe tbody tr th {\n",
       "        vertical-align: top;\n",
       "    }\n",
       "\n",
       "    .dataframe thead th {\n",
       "        text-align: right;\n",
       "    }\n",
       "</style>\n",
       "<table border=\"1\" class=\"dataframe\">\n",
       "  <thead>\n",
       "    <tr style=\"text-align: right;\">\n",
       "      <th></th>\n",
       "      <th>sentence</th>\n",
       "      <th>prediction_label</th>\n",
       "      <th>sentiment_score</th>\n",
       "    </tr>\n",
       "  </thead>\n",
       "  <tbody>\n",
       "    <tr>\n",
       "      <th>0</th>\n",
       "      <td>Good morning, ladies and gentlemen</td>\n",
       "      <td>positive</td>\n",
       "      <td>1</td>\n",
       "    </tr>\n",
       "    <tr>\n",
       "      <th>1</th>\n",
       "      <td>I welcome you to today's Hannover Re Internat...</td>\n",
       "      <td>positive</td>\n",
       "      <td>1</td>\n",
       "    </tr>\n",
       "    <tr>\n",
       "      <th>2</th>\n",
       "      <td>For your information, this conference isbeing...</td>\n",
       "      <td>negative</td>\n",
       "      <td>-1</td>\n",
       "    </tr>\n",
       "    <tr>\n",
       "      <th>3</th>\n",
       "      <td>At this time, I would like to hand the call o...</td>\n",
       "      <td>negative</td>\n",
       "      <td>-1</td>\n",
       "    </tr>\n",
       "    <tr>\n",
       "      <th>4</th>\n",
       "      <td>JeanJacques Henchoz, Chief Executive Officer</td>\n",
       "      <td>negative</td>\n",
       "      <td>-1</td>\n",
       "    </tr>\n",
       "  </tbody>\n",
       "</table>\n",
       "</div>"
      ],
      "text/plain": [
       "                                            sentence prediction_label  \\\n",
       "0                 Good morning, ladies and gentlemen         positive   \n",
       "1   I welcome you to today's Hannover Re Internat...         positive   \n",
       "2   For your information, this conference isbeing...         negative   \n",
       "3   At this time, I would like to hand the call o...         negative   \n",
       "4       JeanJacques Henchoz, Chief Executive Officer         negative   \n",
       "\n",
       "   sentiment_score  \n",
       "0                1  \n",
       "1                1  \n",
       "2               -1  \n",
       "3               -1  \n",
       "4               -1  "
      ]
     },
     "execution_count": 135,
     "metadata": {},
     "output_type": "execute_result"
    }
   ],
   "source": [
    "df_join = df_final.copy()\n",
    "df_join.head(5)"
   ]
  },
  {
   "cell_type": "code",
   "execution_count": 136,
   "metadata": {
    "ExecuteTime": {
     "end_time": "2022-06-30T22:37:53.471855Z",
     "start_time": "2022-06-30T22:37:53.465308Z"
    }
   },
   "outputs": [],
   "source": [
    "# split paragraphs into sentences\n",
    "split_list = []\n",
    "for para in df_para.text.values:\n",
    "    sentences = para.split(sep = '.')\n",
    "    split_list.append(sentences)"
   ]
  },
  {
   "cell_type": "code",
   "execution_count": 187,
   "metadata": {
    "ExecuteTime": {
     "end_time": "2022-06-30T23:03:36.707854Z",
     "start_time": "2022-06-30T23:03:36.694471Z"
    }
   },
   "outputs": [],
   "source": [
    "# find which paragraph that sentences fall fot.\n",
    "def find_para(line):\n",
    "    no = 'No found'\n",
    "    for i, value in enumerate(split_list):\n",
    "        if line in value:\n",
    "            no = i\n",
    "            break\n",
    "    return no"
   ]
  },
  {
   "cell_type": "code",
   "execution_count": 188,
   "metadata": {
    "ExecuteTime": {
     "end_time": "2022-06-30T23:03:38.970931Z",
     "start_time": "2022-06-30T23:03:38.932465Z"
    },
    "scrolled": true
   },
   "outputs": [
    {
     "data": {
      "text/html": [
       "<div>\n",
       "<style scoped>\n",
       "    .dataframe tbody tr th:only-of-type {\n",
       "        vertical-align: middle;\n",
       "    }\n",
       "\n",
       "    .dataframe tbody tr th {\n",
       "        vertical-align: top;\n",
       "    }\n",
       "\n",
       "    .dataframe thead th {\n",
       "        text-align: right;\n",
       "    }\n",
       "</style>\n",
       "<table border=\"1\" class=\"dataframe\">\n",
       "  <thead>\n",
       "    <tr style=\"text-align: right;\">\n",
       "      <th></th>\n",
       "      <th>sentence</th>\n",
       "      <th>prediction_label</th>\n",
       "      <th>sentiment_score</th>\n",
       "      <th>no_para</th>\n",
       "    </tr>\n",
       "  </thead>\n",
       "  <tbody>\n",
       "    <tr>\n",
       "      <th>0</th>\n",
       "      <td>Good morning, ladies and gentlemen</td>\n",
       "      <td>positive</td>\n",
       "      <td>1</td>\n",
       "      <td>0</td>\n",
       "    </tr>\n",
       "    <tr>\n",
       "      <th>1</th>\n",
       "      <td>I welcome you to today's Hannover Re Internat...</td>\n",
       "      <td>positive</td>\n",
       "      <td>1</td>\n",
       "      <td>0</td>\n",
       "    </tr>\n",
       "    <tr>\n",
       "      <th>2</th>\n",
       "      <td>For your information, this conference isbeing...</td>\n",
       "      <td>negative</td>\n",
       "      <td>-1</td>\n",
       "      <td>0</td>\n",
       "    </tr>\n",
       "    <tr>\n",
       "      <th>3</th>\n",
       "      <td>At this time, I would like to hand the call o...</td>\n",
       "      <td>negative</td>\n",
       "      <td>-1</td>\n",
       "      <td>0</td>\n",
       "    </tr>\n",
       "    <tr>\n",
       "      <th>4</th>\n",
       "      <td>JeanJacques Henchoz, Chief Executive Officer</td>\n",
       "      <td>negative</td>\n",
       "      <td>-1</td>\n",
       "      <td>0</td>\n",
       "    </tr>\n",
       "  </tbody>\n",
       "</table>\n",
       "</div>"
      ],
      "text/plain": [
       "                                            sentence prediction_label  \\\n",
       "0                 Good morning, ladies and gentlemen         positive   \n",
       "1   I welcome you to today's Hannover Re Internat...         positive   \n",
       "2   For your information, this conference isbeing...         negative   \n",
       "3   At this time, I would like to hand the call o...         negative   \n",
       "4       JeanJacques Henchoz, Chief Executive Officer         negative   \n",
       "\n",
       "   sentiment_score no_para  \n",
       "0                1       0  \n",
       "1                1       0  \n",
       "2               -1       0  \n",
       "3               -1       0  \n",
       "4               -1       0  "
      ]
     },
     "execution_count": 188,
     "metadata": {},
     "output_type": "execute_result"
    }
   ],
   "source": [
    "df_join['no_para'] = df_join['sentence'].apply(lambda r: find_para(r))\n",
    "df_join.head(5)"
   ]
  },
  {
   "cell_type": "code",
   "execution_count": 189,
   "metadata": {
    "ExecuteTime": {
     "end_time": "2022-06-30T23:03:43.435330Z",
     "start_time": "2022-06-30T23:03:43.422981Z"
    },
    "scrolled": true
   },
   "outputs": [
    {
     "data": {
      "text/html": [
       "<div>\n",
       "<style scoped>\n",
       "    .dataframe tbody tr th:only-of-type {\n",
       "        vertical-align: middle;\n",
       "    }\n",
       "\n",
       "    .dataframe tbody tr th {\n",
       "        vertical-align: top;\n",
       "    }\n",
       "\n",
       "    .dataframe thead th {\n",
       "        text-align: right;\n",
       "    }\n",
       "</style>\n",
       "<table border=\"1\" class=\"dataframe\">\n",
       "  <thead>\n",
       "    <tr style=\"text-align: right;\">\n",
       "      <th></th>\n",
       "      <th>sentence</th>\n",
       "      <th>prediction_label</th>\n",
       "      <th>sentiment_score</th>\n",
       "      <th>no_para</th>\n",
       "    </tr>\n",
       "  </thead>\n",
       "  <tbody>\n",
       "    <tr>\n",
       "      <th>10</th>\n",
       "      <td>The next question is from Vinit Malhotra, Medi...</td>\n",
       "      <td>positive</td>\n",
       "      <td>1</td>\n",
       "      <td>14</td>\n",
       "    </tr>\n",
       "    <tr>\n",
       "      <th>11</th>\n",
       "      <td>Your line is now open</td>\n",
       "      <td>positive</td>\n",
       "      <td>1</td>\n",
       "      <td>14</td>\n",
       "    </tr>\n",
       "    <tr>\n",
       "      <th>12</th>\n",
       "      <td>Please goahead</td>\n",
       "      <td>negative</td>\n",
       "      <td>-1</td>\n",
       "      <td>14</td>\n",
       "    </tr>\n",
       "    <tr>\n",
       "      <th>13</th>\n",
       "      <td>The next question is from William Hardcastle, UBS</td>\n",
       "      <td>positive</td>\n",
       "      <td>1</td>\n",
       "      <td>21</td>\n",
       "    </tr>\n",
       "    <tr>\n",
       "      <th>14</th>\n",
       "      <td>Your line is now open</td>\n",
       "      <td>positive</td>\n",
       "      <td>1</td>\n",
       "      <td>14</td>\n",
       "    </tr>\n",
       "  </tbody>\n",
       "</table>\n",
       "</div>"
      ],
      "text/plain": [
       "                                             sentence prediction_label  \\\n",
       "10  The next question is from Vinit Malhotra, Medi...         positive   \n",
       "11                              Your line is now open         positive   \n",
       "12                                     Please goahead         negative   \n",
       "13  The next question is from William Hardcastle, UBS         positive   \n",
       "14                              Your line is now open         positive   \n",
       "\n",
       "    sentiment_score no_para  \n",
       "10                1      14  \n",
       "11                1      14  \n",
       "12               -1      14  \n",
       "13                1      21  \n",
       "14                1      14  "
      ]
     },
     "execution_count": 189,
     "metadata": {},
     "output_type": "execute_result"
    }
   ],
   "source": [
    "df_join[10:15]"
   ]
  },
  {
   "cell_type": "markdown",
   "metadata": {},
   "source": [
    "Problem 1: 14 sentences not in any paragraphs."
   ]
  },
  {
   "cell_type": "code",
   "execution_count": 167,
   "metadata": {
    "ExecuteTime": {
     "end_time": "2022-06-30T22:47:26.431470Z",
     "start_time": "2022-06-30T22:47:26.408699Z"
    }
   },
   "outputs": [
    {
     "name": "stdout",
     "output_type": "stream",
     "text": [
      "14\n"
     ]
    },
    {
     "data": {
      "text/html": [
       "<div>\n",
       "<style scoped>\n",
       "    .dataframe tbody tr th:only-of-type {\n",
       "        vertical-align: middle;\n",
       "    }\n",
       "\n",
       "    .dataframe tbody tr th {\n",
       "        vertical-align: top;\n",
       "    }\n",
       "\n",
       "    .dataframe thead th {\n",
       "        text-align: right;\n",
       "    }\n",
       "</style>\n",
       "<table border=\"1\" class=\"dataframe\">\n",
       "  <thead>\n",
       "    <tr style=\"text-align: right;\">\n",
       "      <th></th>\n",
       "      <th>sentence</th>\n",
       "      <th>prediction_label</th>\n",
       "      <th>sentiment_score</th>\n",
       "      <th>no_para</th>\n",
       "    </tr>\n",
       "  </thead>\n",
       "  <tbody>\n",
       "    <tr>\n",
       "      <th>31</th>\n",
       "      <td>Ladies and gentlemen, thank you for your atten...</td>\n",
       "      <td>positive</td>\n",
       "      <td>1</td>\n",
       "      <td>No found</td>\n",
       "    </tr>\n",
       "    <tr>\n",
       "      <th>32</th>\n",
       "      <td>This call has been concluded</td>\n",
       "      <td>positive</td>\n",
       "      <td>1</td>\n",
       "      <td>No found</td>\n",
       "    </tr>\n",
       "    <tr>\n",
       "      <th>33</th>\n",
       "      <td>Youmay disconnect</td>\n",
       "      <td>negative</td>\n",
       "      <td>-1</td>\n",
       "      <td>No found</td>\n",
       "    </tr>\n",
       "    <tr>\n",
       "      <th>207</th>\n",
       "      <td>Questions And AnswersThank you</td>\n",
       "      <td>positive</td>\n",
       "      <td>1</td>\n",
       "      <td>No found</td>\n",
       "    </tr>\n",
       "    <tr>\n",
       "      <th>210</th>\n",
       "      <td>Andrew, if I may add, you shouldn't see that ...</td>\n",
       "      <td>positive</td>\n",
       "      <td>1</td>\n",
       "      <td>No found</td>\n",
       "    </tr>\n",
       "    <tr>\n",
       "      <th>245</th>\n",
       "      <td>On P&amp;C growth, Sven, do you want to add?Vinit,...</td>\n",
       "      <td>positive</td>\n",
       "      <td>1</td>\n",
       "      <td>No found</td>\n",
       "    </tr>\n",
       "    <tr>\n",
       "      <th>256</th>\n",
       "      <td>And then, could you just repeat yourquestion ...</td>\n",
       "      <td>positive</td>\n",
       "      <td>1</td>\n",
       "      <td>No found</td>\n",
       "    </tr>\n",
       "    <tr>\n",
       "      <th>476</th>\n",
       "      <td>COVID 3Q, that looked a bit lower and thatcou...</td>\n",
       "      <td>positive</td>\n",
       "      <td>1</td>\n",
       "      <td>No found</td>\n",
       "    </tr>\n",
       "    <tr>\n",
       "      <th>509</th>\n",
       "      <td>Is that because of the greater fronting on Eu...</td>\n",
       "      <td>negative</td>\n",
       "      <td>-1</td>\n",
       "      <td>No found</td>\n",
       "    </tr>\n",
       "    <tr>\n",
       "      <th>512</th>\n",
       "      <td>Is there anything why that'shappened? Is ther...</td>\n",
       "      <td>positive</td>\n",
       "      <td>1</td>\n",
       "      <td>No found</td>\n",
       "    </tr>\n",
       "    <tr>\n",
       "      <th>516</th>\n",
       "      <td>Is that a very fair assumption?And just on th...</td>\n",
       "      <td>negative</td>\n",
       "      <td>-1</td>\n",
       "      <td>No found</td>\n",
       "    </tr>\n",
       "    <tr>\n",
       "      <th>517</th>\n",
       "      <td>Is that how weshould read that?Brilliant</td>\n",
       "      <td>positive</td>\n",
       "      <td>1</td>\n",
       "      <td>No found</td>\n",
       "    </tr>\n",
       "    <tr>\n",
       "      <th>559</th>\n",
       "      <td>But again --Yes</td>\n",
       "      <td>positive</td>\n",
       "      <td>1</td>\n",
       "      <td>No found</td>\n",
       "    </tr>\n",
       "    <tr>\n",
       "      <th>584</th>\n",
       "      <td>Why should we not be thinking that these are ...</td>\n",
       "      <td>positive</td>\n",
       "      <td>1</td>\n",
       "      <td>No found</td>\n",
       "    </tr>\n",
       "  </tbody>\n",
       "</table>\n",
       "</div>"
      ],
      "text/plain": [
       "                                              sentence prediction_label  \\\n",
       "31   Ladies and gentlemen, thank you for your atten...         positive   \n",
       "32                        This call has been concluded         positive   \n",
       "33                                   Youmay disconnect         negative   \n",
       "207                     Questions And AnswersThank you         positive   \n",
       "210   Andrew, if I may add, you shouldn't see that ...         positive   \n",
       "245  On P&C growth, Sven, do you want to add?Vinit,...         positive   \n",
       "256   And then, could you just repeat yourquestion ...         positive   \n",
       "476   COVID 3Q, that looked a bit lower and thatcou...         positive   \n",
       "509   Is that because of the greater fronting on Eu...         negative   \n",
       "512   Is there anything why that'shappened? Is ther...         positive   \n",
       "516   Is that a very fair assumption?And just on th...         negative   \n",
       "517           Is that how weshould read that?Brilliant         positive   \n",
       "559                                    But again --Yes         positive   \n",
       "584   Why should we not be thinking that these are ...         positive   \n",
       "\n",
       "     sentiment_score   no_para  \n",
       "31                 1  No found  \n",
       "32                 1  No found  \n",
       "33                -1  No found  \n",
       "207                1  No found  \n",
       "210                1  No found  \n",
       "245                1  No found  \n",
       "256                1  No found  \n",
       "476                1  No found  \n",
       "509               -1  No found  \n",
       "512                1  No found  \n",
       "516               -1  No found  \n",
       "517                1  No found  \n",
       "559                1  No found  \n",
       "584                1  No found  "
      ]
     },
     "execution_count": 167,
     "metadata": {},
     "output_type": "execute_result"
    }
   ],
   "source": [
    "df_no_found = df_join.loc[df_join['no_para']=='No found']\n",
    "print(len(df_no_found))\n",
    "df_no_found"
   ]
  },
  {
   "cell_type": "markdown",
   "metadata": {},
   "source": [
    "Problem 2: Some sentences appears a lot of paragraphs."
   ]
  },
  {
   "cell_type": "code",
   "execution_count": 192,
   "metadata": {
    "ExecuteTime": {
     "end_time": "2022-07-01T16:25:33.864697Z",
     "start_time": "2022-07-01T16:25:33.828050Z"
    }
   },
   "outputs": [
    {
     "name": "stdout",
     "output_type": "stream",
     "text": [
      "Nope\n",
      "Nope\n",
      "Nope\n",
      "Nope\n",
      "Nope\n",
      "Nope\n",
      "Nope\n",
      "Nope\n",
      "Nope\n",
      "Nope\n",
      "Nope\n",
      "Nope\n",
      "Nope\n",
      "Nope\n",
      "The next question is from Vinit Malhotra, Mediobanca. Your line is now open. Please goahead.\n",
      "Nope\n",
      "Nope\n",
      "Nope\n",
      "Nope\n",
      "Nope\n",
      "Nope\n",
      "The next question is from William Hardcastle, UBS. Your line is now open. Please goahead.\n",
      "Nope\n",
      "Nope\n",
      "Nope\n",
      "Nope\n",
      "Nope\n",
      "Nope\n",
      "Nope\n",
      "Nope\n",
      "Nope\n",
      "Nope\n",
      "Nope\n",
      "The next question is from Thomas Fossard, HSBC. Your line is now open. Please goahead.\n",
      "Nope\n",
      "Nope\n",
      "Nope\n",
      "Nope\n",
      "The next question is from Iain Pearce, Credit Suisse. Your line is now open. Please goahead.\n",
      "Nope\n",
      "Nope\n",
      "Nope\n",
      "Nope\n",
      "Nope\n",
      "Nope\n",
      "The next question is from Darius Satkauskas of KBW. Your line is now open. Please goahead.\n",
      "Nope\n",
      "Nope\n",
      "And we have a follow-up question from Vinit Malhotra, Mediobanca. Your line is now openagain.\n",
      "Nope\n",
      "Nope\n",
      "Nope\n",
      "Nope\n",
      "Nope\n",
      "Nope\n",
      "Nope\n",
      "Nope\n",
      "Nope\n",
      "Nope\n",
      "Nope\n",
      "Nope\n",
      "Nope\n",
      "Nope\n",
      "Nope\n",
      "Nope\n"
     ]
    }
   ],
   "source": [
    "for line in df_para.text.values:\n",
    "    #x = re.findall('Your line is now open',line)\n",
    "    x = re.findall('Your line is now open',line)\n",
    "    if len(x) >0 :\n",
    "        print(line)\n",
    "    else:\n",
    "        print('Nope')"
   ]
  },
  {
   "cell_type": "code",
   "execution_count": null,
   "metadata": {},
   "outputs": [],
   "source": []
  }
 ],
 "metadata": {
  "colab": {
   "name": "tweeter_sample.ipynb",
   "provenance": []
  },
  "kernelspec": {
   "display_name": "Python 3 (ipykernel)",
   "language": "python",
   "name": "python3"
  },
  "language_info": {
   "codemirror_mode": {
    "name": "ipython",
    "version": 3
   },
   "file_extension": ".py",
   "mimetype": "text/x-python",
   "name": "python",
   "nbconvert_exporter": "python",
   "pygments_lexer": "ipython3",
   "version": "3.9.7"
  },
  "toc": {
   "base_numbering": 1,
   "nav_menu": {},
   "number_sections": true,
   "sideBar": true,
   "skip_h1_title": false,
   "title_cell": "Table of Contents",
   "title_sidebar": "Contents",
   "toc_cell": false,
   "toc_position": {},
   "toc_section_display": true,
   "toc_window_display": false
  },
  "varInspector": {
   "cols": {
    "lenName": 16,
    "lenType": 16,
    "lenVar": 40
   },
   "kernels_config": {
    "python": {
     "delete_cmd_postfix": "",
     "delete_cmd_prefix": "del ",
     "library": "var_list.py",
     "varRefreshCmd": "print(var_dic_list())"
    },
    "r": {
     "delete_cmd_postfix": ") ",
     "delete_cmd_prefix": "rm(",
     "library": "var_list.r",
     "varRefreshCmd": "cat(var_dic_list()) "
    }
   },
   "types_to_exclude": [
    "module",
    "function",
    "builtin_function_or_method",
    "instance",
    "_Feature"
   ],
   "window_display": false
  }
 },
 "nbformat": 4,
 "nbformat_minor": 1
}
