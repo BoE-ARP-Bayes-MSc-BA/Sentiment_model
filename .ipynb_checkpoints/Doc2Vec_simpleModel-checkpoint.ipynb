{
 "cells": [
  {
   "cell_type": "markdown",
   "id": "507acfab",
   "metadata": {},
   "source": [
    "# Preprocessing"
   ]
  },
  {
   "cell_type": "code",
   "execution_count": 13,
   "id": "d0c206a7",
   "metadata": {
    "ExecuteTime": {
     "end_time": "2022-05-19T10:30:23.258565Z",
     "start_time": "2022-05-19T10:30:16.302833Z"
    }
   },
   "outputs": [],
   "source": [
    "import pandas as pd\n",
    "\n",
    "from gensim.models import doc2vec\n",
    "from collections import namedtuple"
   ]
  },
  {
   "cell_type": "raw",
   "id": "b94d405a",
   "metadata": {
    "ExecuteTime": {
     "end_time": "2022-05-19T10:30:10.982643Z",
     "start_time": "2022-05-19T10:30:08.895485Z"
    }
   },
   "source": [
    "pip install gensim"
   ]
  },
  {
   "cell_type": "code",
   "execution_count": 2,
   "id": "f6f5fe57",
   "metadata": {
    "ExecuteTime": {
     "end_time": "2022-05-19T10:27:08.885776Z",
     "start_time": "2022-05-19T10:27:08.877313Z"
    }
   },
   "outputs": [],
   "source": [
    "doc = pd.read_csv('participants_1.csv')"
   ]
  },
  {
   "cell_type": "code",
   "execution_count": 23,
   "id": "966c4524",
   "metadata": {
    "ExecuteTime": {
     "end_time": "2022-05-19T10:38:42.361947Z",
     "start_time": "2022-05-19T10:38:42.349573Z"
    }
   },
   "outputs": [
    {
     "data": {
      "text/plain": [
       "[\"Yes, thank you, Uli. The good thing is that I have an interface to my surrounding again, somy reading glasses broke 15 minutes before this meeting, but Axel was kind of enough toget this quality UK product from the drugstore next corner, so I'm online again. Thank you.Thank you, Uli. I think you mentioned already some parts of – or the major parts of our keyfigures and results. But I think we should start with – before we get into the detailed P&L,we should look at some key metrics or remarkable developments of key metrics whichwere not only driven by us, but also by the markets or the EZB or whomsoever.First of all, the strong cash flow for 2014 nearly reached the €2 billion mark again. Westarted a little bit slow into the year. I think we mentioned at previous occasions there wasone U.S. mobility contract, and we might come to that contract again a little bit later, whichwas cash negative in the first two quarters. This will turnaround – has already and it willturnaround in 2015, so we will get that money back. But the second half year with verystrong cash flow, which I think supports the positive message and the quality of theresults, even with a little bit of a more depressed overall growth, the cash flow stays verypositive.On the right hand side, the assets under own management up by 14% or €4.5 billion. I cantell you with the development of the U.S. dollar and the yields, especially the yields of thegovernment bonds, this today is approaching €39 billion. So the increase is reallyremarkable. And again, this is not only driven by a very good result, but also the yields andespecially the currency exchange rates.The same goes for the capital position on the next slide. Equity increased by nearly €1.7billion or 28%; the policyholder surplus by €1.5 billion. Why is that a little bit different?Because we paid back €750 million in February, and we issued the subordinated bond,and we issued a new-subordinated bond in September with another €500 million, whichthen again was the reason why the policyholder surplus decreased or their subordinatedbonds here decreased a little bit.You might remember there is another call date coming up in June for €500 million. Up tonow, we indicated that the last €500 million was already in early refinancing. This is not anannouncement that we will call that. But up to now, we have called every subordinatedbond at its first call date, so one might expect that this green part of the bar might godown in June.On the other side of that slide, you see the increase in the shareholders equity. And I thinkthat demonstrates very clearly where this increase – this strong increase is coming from.First of all, of course, €986 million of result, the dividend we paid last year was the €362million. And that demonstrates that the increase coming from the valuation reserves onour invested assets, as well as the currency exchanges rates this is more than a billioneuros, and is even higher than what we had produced as profits.Now, you might want to distinguish these two components for the increase or theincreased assets from the currency exchange rates. I think, this is also reflected on theearnings side by higher U.S. dollar, Aussie dollar, whatever earnings. So we earned alsohigher euro values on these amounts. When you look at the valuation reserves, the morethan €630 million in the middle, that is an increase which is really an increase in our capitalbase, which also will have an impact on the future ROIs.The overall number of OCI or capital driven by the valuation reserves in our assetportfolio is €1.2 billion nearly. And with a modified duration of five years, one could expect,everything equal, we might lose €120 million per year because this will run off. This will becapital components, which will disappear in the future, but it's only €120 million per year.I think this leads us directly into the capital management actions, which Uli had alreadymentioned. Here you see a, from my point of view, impressive picture, if you look at thelast six years, six years ago, we came here and mentioned that is our intention todecrease the volatility in our earnings, to decrease the volatility in our dividend payments.And if you look at that picture here, you see that we're rather successful, of coursehelped by the markets and also the catastrophe components in our business. But even ifin 2011, which was the second highest natural catastrophe burden in the history ofreinsurance, we managed to provide a good dividend.The €3 plus the bonus do represent €150 million, so that is what we kind of give back toour shareholders as a start of potential capital management action. The dividend yieldtoday or a few days ago, 5%. If you go back to the beginning of the year, 6%. If you goback one year and you had invested into the Hannover Re share one year ago, thedividend yield would even be above 7%.One other perspective at the capital development and the ROEs we have provided anddo provide, I think the chart demonstrates clearly the achievement. The average capitalposition has been increasing remarkably from the €4 billion to the €6.7 billion this year.Still, we managed to keep the ROE on a very, very high level.On the right-hand side, you see the average achievements, on the left-hand side the lastfive years. The margins over above the hurdle and we have shown here the old hurdle is750 basis points, as well as the new hurdle the 900 basis points has even increased overthe last year's. But we have to bear in mind that this has got to be more challenging in thefuture. With the high capital position, and with also the higher volatile capital components,I have tried to explain to you with the OCI positions, which might be volatile in the future.So this is going to be more challenging into the future, and this is why we also look atmanaging the capital position as well as the income position up there.I think that then leads us directly into the peer comparison, which we always do. I think weare still the number one on the four-year horizon. This year two Bermudian companies arein front of us, so I think that is not very surprising because of the very low cap burdenwhich the industry has been seeing. So in that regard, we are still happy, and we are stillcommitted to stay one of the most profitable reinsurers in the industry, also in the future.So let's then have a brief look at the P&L in more detail. On the group level, I think it's notnecessary to repeat the growth in the turnover of the premium. The first component Ithink which needs some explanation is the other income and expense line here. We havebeen long in the U.S. dollar and other non-euro currencies already over the course of theyear. And in so far, the majority of that swing from minus €100 million to plus €18 million inthe other expense line is based on the currency result. That should be zero, if I managemy portfolio on a very highly matched basis. So on the one hand, this is a little bit of oneoff.On the other hand, I think where we were in doubt, we stayed little bit longer in theforeign currencies as we saw the euro weakening, especially against the U.S. dollar. This iswhy this line has improved so remarkably.Moreover, I think the other components here is the fee income on those contracts on theLife side, which are deposit accounted, where the risk component is so low that there isno reinsurance treatment justified and the fee income is reflected in that line and that hasbeen increasing as well. Moreover, we have been rather successful in managing our LOCcosts down. Also, that is mainly on the Life side, where it was possible to decrease thecosts of the LOCs, which we, in the majority, need to backup our U.S. business.The tax rate is back to normal. You might remember that last year we had a special effecton the non-Life, on the P&C side, where the deferred taxes on equalization reservescould be calculated a little bit more realistically based on a decision for the German taxman that had produced a €90 million extraordinary effect. That, of course, was notrepeated this year. We are still a little bit on the low side based on a very positive result inBermuda where the tax rate is zero and where our cat business is written mainly, so thecontribution from the low tax environments had been a little bit over proportional; samegoes for the Life business, which we write in Bermuda. So this is why the overall tax rate isa little bit lower than what we would expect for a normalized tax ratio, which should bearound 25% on a group level.A brief look at the P&C side. We see a slight growth. The 1.2% on a currency adjustedbasis, which is nice and which follows our guidance. Would this number have beennegative that would not have been a problem at all. It is positively influenced by some lowrisk, low margin Chinese surplus relief contracts which we sometimes write, sometimesthe margins are not sufficient. So again, it's nice to see it growing. But if that would havebeen a negative number, we would not be concerned at all.The burden or the net retention has increased slightly, so we pay a little bit less for ourrepossessions, which makes itself felt here that the net premium income is growing a littlebit more than the gross.Major losses. I think Uli has already mentioned the large loss budget was €670 million;€244 million of that budget was unused. And in that regard, it was the third very large –low large loss number in a row, which of course also as its impact on the competition onthe market. Perhaps – and also that was mentioned by Uli.Let's discuss a little bit our reserving policy. If you look at the annual result and the run-offtriangles, you will see a positive run-off of €270 million. I think that is really fully in line withwhat I was trying to explain at the occasion of the Investors Day, an approximately €50million positive run-off would be expected per quarter, a little bit more than that for theyear.So there are no extraordinary unusual effects of run-off result. I would refer to mypresentation at the same place a few months ago where I was trying to explain theimpacts which could be there on the confidence level as well as the run-off result, nothingextraordinary here. In that regards, the combined ratio for the fourth quarter were – whenwe read your first comments, seems to be a little bit disappointing.As Uli already mentioned, stuck to our reserving policy. We have most likely added andwe're waiting on the final results of the reserve studies. But we will most likely have edit tothe reserve redundancies, which our COO always presents to you at the occasion of theInvestors Day. We have to bear in mind that also the volume of the reserves has increasedbased on the currency exchange rate. So percentage-wise, we might have keep or keptthe overall confidence level flat. But in absolute terms, we will have increased within thereserves numbers, which you might remember was €1.5 billion based on the last study.And that then also explains a little bit why the fourth quarter effect, which you hadexpected in the combined ratio has not taken place to such an extent.I think that's it. Let's look at the MtCR and the achievements of the year per market on theP&C side. The margins are getting a little bit narrower. Still, even if you back out the verypositive cat result, we would still have made it and the overall result of the business wouldhave been still profitable. We shouldn't fool ourselves, a combined ratio of 39.3% isnothing which we could really see also in the future. And it's so far a large cat year mightmake the overall P&C result getting nearer to the breakeven point and it's good to havebuffers, if that happens.Apart from that, again, we can briefly look at the North America business, still profitable,below the hurdle – or over and above the hurdle. The Continental Europe positive withGermany also better than it used to be. The marine business, after the big losses, Sandy,of course, the Concordia. Very profitable aviation, we know what happened there, theTripoli airport as well as the Malaysian airline disasters, of course, hit that. Credit, suretyprofitable. UK, London market and direct, we still had a little bit of problem on somecasualty accounts where we were looked at conservatively. We expect that to be farbetter in the future. The worldwide treaty on the edge. Cat, of course, I mentioned thatvery profitable and, of course, the basis for also the overachievement. Structuredreinsurance very positive and making the margin by far,The major losses, I mentioned, you can see that here very clearly three years in a row.And if you add all the under or those amounts for the last three years where we wereunder the budgeted loss large numbers, that accounts for €400 million.So the €426 million which you see here as compared to the €670 million; the €578 millionas compared to €625 million, but if you then go back to the year 2011, you see that all thiswhat we have saved within over the last three years can be gone within one year. And inthat regard, we should always bear that in mind and not fool ourselves that the verypositive results in this segment might go on forever.You see the large losses, the single ones, not a real single one was a very major loss. Onthe cat side, clearly, below the budget with the storm Ela in Germany, Belgium and in theNetherlands with the highest large loss burden of around €50 million for our account, theaviation claims with Tripoli and the Malaysian Airline loses, as I already mentioned. Overall,as I mentioned, €244 million below our budget. So another friendly pack picture, althoughnot a glamorous picture.If we look at the Life & Health reinsurance, we did various longevity deals. We took benefitfrom the improved and the hardening rates in Australia and these were the major profitdrivers. We did retrocede some of – especially the longevity deals. This is why the netretention goes down on the technical side. Uli mentioned that the Australian DII businessdid really well, fully in line with our expectations, even slightly better. So that explains theimprovement here. The U.S. mortality still slightly below our expectations, but no badsurprises here as well. And this is then the basis for the remarkable improvement.The other income here also is usually better than on the P&C side. It did benefit also fromcurrency exchange rates. But here even also from the fee income of our depositedaccounting, especially the financial reinsurance contracts which have improved as Imentioned before.Margin-wise, I think we are rather happy financial solutions, impressive margins, that is thebusiness we especially write in the U.S., where our colleagues do provide coverage forthe balance sheet or for the local balance sheet especially. And that is improving andgrowing nicely. The longevity also over and above the target.The mortality and morbidity business, as I mentioned, the U.S. mortality business, some ofthat business still not fully in line with our expectations. And here we can come back tothat one U.S. house contract, mobility contract, which we no longer write, where welooked at reserves and increased the reserves or incurred some losses, especially in thefourth quarter. Again, we no longer write that business, so this will not reoccur.And this is also the reason as to why we look very positive into the future, even betternews, if we turn the page and have a very, very brief look at the MCEV. That is hot offpress. For the first time, we managed to present the market consistent embedded valuenumbers, together with our year-end results. And we have demonstrated – or in ourpresentation only the major numbers. You will find the details if you're interested, if youbelieve in MCEVs, then you will find the numbers in the appendix and on the website,especially the very brand new website of Hannover Re, which I think is worth visitinganyway.The MCEV has increased by 16% and is now nearly €4.3 billion. I think even moreimportantly the value of new business is for three or even four years in a row now havevery high level, over and above our threshold of the target metrics with €448 million,again, another new record. Again, this is profit which we will earn, also, long-term up until20 years, 30 years. Still with more than a billion euros of new business value over the lastthree years, we are very confident that also the IFRS result will improve remarkably in nextyears to come.Perhaps not mentioned on this page, but still important is the MCEV or market consistentembedded value not recognized on the balance sheet. That increased from €1.10 billion to€1.12 billion, which is also an increase of more than €100 million. And again, if you believe inMCEV numbers, that is another off-balance sheet value which Hannover Re carries.So to come to the investment side. The ROE target, from my point of view, as I'mresponsible for that segment, of course, I look at that even a little bit closer. It is a little bitunderrepresented or underestimated when we show it here. It includes the technicalderivatives, which you see as the change in fair value of financial instruments. That is theModCo derivatives as well as the inflation swaps. If we back that out, what we do in ourtarget metrics, so always the positives and the negatives, we end up at 3.3% ROI, which isa little bit over and above our target.If I come back very briefly to the impact of our subordinated bond redemption andreinvestment, so here we do calculate with the assets beginning of the year, assets endof the year, divide that by two. Of course, the seven months where I didn't have thatmoney are not included in that, so also that is a little bit of reason why the numbers hereare a little bit underrepresented. The realized gains and losses, again, Uli mentioned thatalready, we had some turnover in the portfolio which created these losses. Apart fromthat, there were no real surprises, impairments and appreciations driven by regulardepreciations on the real estate portfolio. So again, nothing extraordinary to write-off. Andwith nearly $1.1 billion net investment income, we are happy. And again, it is a little bit morethan we had expected.It is interesting to look at the bottom of that page what happened to our valuationreserves. I had addressed that already various times. We have now here the on-balancesheet valuation reserves. Those are the investments we account for at available-for-sale.The off-balance sheet values that is what we have as hold-to-maturity or what (40:49) orothers which we do account at amortized costs. Altogether, that number has doubledfrom €1.1 billion to more than – or nearly $2.3 billion, and we have not taken advantage ofthat by realizing more. That is a buffer for potential yield increases in the future.A brief look and final look – before I ask Uli to present to you then the outlook, at theasset allocation. That is rather stable. The corporate portfolio has increased to 35%, alittle bit more. There is nothing more to be expected. The covered bonds have gonedown a little bit here. A competitive investor, especially by the end of last year, was therewith ease at peak. Also, competing to buy these issues, so that has come down a little bitas also the prices went down remarkably.The real estate is developing as well as the private equity. So we keep these portionsstable. And we will hear in a second that with the reinvestment yields we do invest today,are amounts of around 1.7, 1.8. The expectations for the next year is around 3.15 ROI. Withincreased assets under our own management, we estimate the return from the – or thenet investment income, again in the range of the previous year.I think with that I conclude my details and Uli, the floor is yours with the target metrics.Sorry.\"]"
      ]
     },
     "execution_count": 23,
     "metadata": {},
     "output_type": "execute_result"
    }
   ],
   "source": [
    "# extract value\n",
    "text1 = doc.loc[0,'Roland Vogel']\n",
    "### as we gonna have multiple paragraph, we will append each paragraph into a list\n",
    "paragraphs = [] \n",
    "paragraphs.append(text1)\n",
    "paragraphs"
   ]
  },
  {
   "cell_type": "markdown",
   "id": "329185e9",
   "metadata": {},
   "source": [
    "# Train simple Doc2Vec model"
   ]
  },
  {
   "cell_type": "code",
   "execution_count": 37,
   "id": "66d3870a",
   "metadata": {
    "ExecuteTime": {
     "end_time": "2022-05-19T10:54:23.772387Z",
     "start_time": "2022-05-19T10:54:23.744175Z"
    }
   },
   "outputs": [
    {
     "data": {
      "text/plain": [
       "[AnalyzedDocument(words=['yes,', 'thank', 'you,', 'uli.', 'the', 'good', 'thing', 'is', 'that', 'i', 'have', 'an', 'interface', 'to', 'my', 'surrounding', 'again,', 'somy', 'reading', 'glasses', 'broke', '15', 'minutes', 'before', 'this', 'meeting,', 'but', 'axel', 'was', 'kind', 'of', 'enough', 'toget', 'this', 'quality', 'uk', 'product', 'from', 'the', 'drugstore', 'next', 'corner,', 'so', \"i'm\", 'online', 'again.', 'thank', 'you.thank', 'you,', 'uli.', 'i', 'think', 'you', 'mentioned', 'already', 'some', 'parts', 'of', '–', 'or', 'the', 'major', 'parts', 'of', 'our', 'keyfigures', 'and', 'results.', 'but', 'i', 'think', 'we', 'should', 'start', 'with', '–', 'before', 'we', 'get', 'into', 'the', 'detailed', 'p&l,we', 'should', 'look', 'at', 'some', 'key', 'metrics', 'or', 'remarkable', 'developments', 'of', 'key', 'metrics', 'whichwere', 'not', 'only', 'driven', 'by', 'us,', 'but', 'also', 'by', 'the', 'markets', 'or', 'the', 'ezb', 'or', 'whomsoever.first', 'of', 'all,', 'the', 'strong', 'cash', 'flow', 'for', '2014', 'nearly', 'reached', 'the', '€2', 'billion', 'mark', 'again.', 'westarted', 'a', 'little', 'bit', 'slow', 'into', 'the', 'year.', 'i', 'think', 'we', 'mentioned', 'at', 'previous', 'occasions', 'there', 'wasone', 'u.s.', 'mobility', 'contract,', 'and', 'we', 'might', 'come', 'to', 'that', 'contract', 'again', 'a', 'little', 'bit', 'later,', 'whichwas', 'cash', 'negative', 'in', 'the', 'first', 'two', 'quarters.', 'this', 'will', 'turnaround', '–', 'has', 'already', 'and', 'it', 'willturnaround', 'in', '2015,', 'so', 'we', 'will', 'get', 'that', 'money', 'back.', 'but', 'the', 'second', 'half', 'year', 'with', 'verystrong', 'cash', 'flow,', 'which', 'i', 'think', 'supports', 'the', 'positive', 'message', 'and', 'the', 'quality', 'of', 'theresults,', 'even', 'with', 'a', 'little', 'bit', 'of', 'a', 'more', 'depressed', 'overall', 'growth,', 'the', 'cash', 'flow', 'stays', 'verypositive.on', 'the', 'right', 'hand', 'side,', 'the', 'assets', 'under', 'own', 'management', 'up', 'by', '14%', 'or', '€4.5', 'billion.', 'i', 'cantell', 'you', 'with', 'the', 'development', 'of', 'the', 'u.s.', 'dollar', 'and', 'the', 'yields,', 'especially', 'the', 'yields', 'of', 'thegovernment', 'bonds,', 'this', 'today', 'is', 'approaching', '€39', 'billion.', 'so', 'the', 'increase', 'is', 'reallyremarkable.', 'and', 'again,', 'this', 'is', 'not', 'only', 'driven', 'by', 'a', 'very', 'good', 'result,', 'but', 'also', 'the', 'yields', 'andespecially', 'the', 'currency', 'exchange', 'rates.the', 'same', 'goes', 'for', 'the', 'capital', 'position', 'on', 'the', 'next', 'slide.', 'equity', 'increased', 'by', 'nearly', '€1.7billion', 'or', '28%;', 'the', 'policyholder', 'surplus', 'by', '€1.5', 'billion.', 'why', 'is', 'that', 'a', 'little', 'bit', 'different?because', 'we', 'paid', 'back', '€750', 'million', 'in', 'february,', 'and', 'we', 'issued', 'the', 'subordinated', 'bond,and', 'we', 'issued', 'a', 'new-subordinated', 'bond', 'in', 'september', 'with', 'another', '€500', 'million,', 'whichthen', 'again', 'was', 'the', 'reason', 'why', 'the', 'policyholder', 'surplus', 'decreased', 'or', 'their', 'subordinatedbonds', 'here', 'decreased', 'a', 'little', 'bit.you', 'might', 'remember', 'there', 'is', 'another', 'call', 'date', 'coming', 'up', 'in', 'june', 'for', '€500', 'million.', 'up', 'tonow,', 'we', 'indicated', 'that', 'the', 'last', '€500', 'million', 'was', 'already', 'in', 'early', 'refinancing.', 'this', 'is', 'not', 'anannouncement', 'that', 'we', 'will', 'call', 'that.', 'but', 'up', 'to', 'now,', 'we', 'have', 'called', 'every', 'subordinatedbond', 'at', 'its', 'first', 'call', 'date,', 'so', 'one', 'might', 'expect', 'that', 'this', 'green', 'part', 'of', 'the', 'bar', 'might', 'godown', 'in', 'june.on', 'the', 'other', 'side', 'of', 'that', 'slide,', 'you', 'see', 'the', 'increase', 'in', 'the', 'shareholders', 'equity.', 'and', 'i', 'thinkthat', 'demonstrates', 'very', 'clearly', 'where', 'this', 'increase', '–', 'this', 'strong', 'increase', 'is', 'coming', 'from.first', 'of', 'all,', 'of', 'course,', '€986', 'million', 'of', 'result,', 'the', 'dividend', 'we', 'paid', 'last', 'year', 'was', 'the', '€362million.', 'and', 'that', 'demonstrates', 'that', 'the', 'increase', 'coming', 'from', 'the', 'valuation', 'reserves', 'onour', 'invested', 'assets,', 'as', 'well', 'as', 'the', 'currency', 'exchanges', 'rates', 'this', 'is', 'more', 'than', 'a', 'billioneuros,', 'and', 'is', 'even', 'higher', 'than', 'what', 'we', 'had', 'produced', 'as', 'profits.now,', 'you', 'might', 'want', 'to', 'distinguish', 'these', 'two', 'components', 'for', 'the', 'increase', 'or', 'theincreased', 'assets', 'from', 'the', 'currency', 'exchange', 'rates.', 'i', 'think,', 'this', 'is', 'also', 'reflected', 'on', 'theearnings', 'side', 'by', 'higher', 'u.s.', 'dollar,', 'aussie', 'dollar,', 'whatever', 'earnings.', 'so', 'we', 'earned', 'alsohigher', 'euro', 'values', 'on', 'these', 'amounts.', 'when', 'you', 'look', 'at', 'the', 'valuation', 'reserves,', 'the', 'morethan', '€630', 'million', 'in', 'the', 'middle,', 'that', 'is', 'an', 'increase', 'which', 'is', 'really', 'an', 'increase', 'in', 'our', 'capitalbase,', 'which', 'also', 'will', 'have', 'an', 'impact', 'on', 'the', 'future', 'rois.the', 'overall', 'number', 'of', 'oci', 'or', 'capital', 'driven', 'by', 'the', 'valuation', 'reserves', 'in', 'our', 'assetportfolio', 'is', '€1.2', 'billion', 'nearly.', 'and', 'with', 'a', 'modified', 'duration', 'of', 'five', 'years,', 'one', 'could', 'expect,everything', 'equal,', 'we', 'might', 'lose', '€120', 'million', 'per', 'year', 'because', 'this', 'will', 'run', 'off.', 'this', 'will', 'becapital', 'components,', 'which', 'will', 'disappear', 'in', 'the', 'future,', 'but', \"it's\", 'only', '€120', 'million', 'per', 'year.i', 'think', 'this', 'leads', 'us', 'directly', 'into', 'the', 'capital', 'management', 'actions,', 'which', 'uli', 'had', 'alreadymentioned.', 'here', 'you', 'see', 'a,', 'from', 'my', 'point', 'of', 'view,', 'impressive', 'picture,', 'if', 'you', 'look', 'at', 'thelast', 'six', 'years,', 'six', 'years', 'ago,', 'we', 'came', 'here', 'and', 'mentioned', 'that', 'is', 'our', 'intention', 'todecrease', 'the', 'volatility', 'in', 'our', 'earnings,', 'to', 'decrease', 'the', 'volatility', 'in', 'our', 'dividend', 'payments.and', 'if', 'you', 'look', 'at', 'that', 'picture', 'here,', 'you', 'see', 'that', \"we're\", 'rather', 'successful,', 'of', 'coursehelped', 'by', 'the', 'markets', 'and', 'also', 'the', 'catastrophe', 'components', 'in', 'our', 'business.', 'but', 'even', 'ifin', '2011,', 'which', 'was', 'the', 'second', 'highest', 'natural', 'catastrophe', 'burden', 'in', 'the', 'history', 'ofreinsurance,', 'we', 'managed', 'to', 'provide', 'a', 'good', 'dividend.the', '€3', 'plus', 'the', 'bonus', 'do', 'represent', '€150', 'million,', 'so', 'that', 'is', 'what', 'we', 'kind', 'of', 'give', 'back', 'toour', 'shareholders', 'as', 'a', 'start', 'of', 'potential', 'capital', 'management', 'action.', 'the', 'dividend', 'yieldtoday', 'or', 'a', 'few', 'days', 'ago,', '5%.', 'if', 'you', 'go', 'back', 'to', 'the', 'beginning', 'of', 'the', 'year,', '6%.', 'if', 'you', 'goback', 'one', 'year', 'and', 'you', 'had', 'invested', 'into', 'the', 'hannover', 're', 'share', 'one', 'year', 'ago,', 'thedividend', 'yield', 'would', 'even', 'be', 'above', '7%.one', 'other', 'perspective', 'at', 'the', 'capital', 'development', 'and', 'the', 'roes', 'we', 'have', 'provided', 'anddo', 'provide,', 'i', 'think', 'the', 'chart', 'demonstrates', 'clearly', 'the', 'achievement.', 'the', 'average', 'capitalposition', 'has', 'been', 'increasing', 'remarkably', 'from', 'the', '€4', 'billion', 'to', 'the', '€6.7', 'billion', 'this', 'year.still,', 'we', 'managed', 'to', 'keep', 'the', 'roe', 'on', 'a', 'very,', 'very', 'high', 'level.on', 'the', 'right-hand', 'side,', 'you', 'see', 'the', 'average', 'achievements,', 'on', 'the', 'left-hand', 'side', 'the', 'lastfive', 'years.', 'the', 'margins', 'over', 'above', 'the', 'hurdle', 'and', 'we', 'have', 'shown', 'here', 'the', 'old', 'hurdle', 'is750', 'basis', 'points,', 'as', 'well', 'as', 'the', 'new', 'hurdle', 'the', '900', 'basis', 'points', 'has', 'even', 'increased', 'overthe', 'last', \"year's.\", 'but', 'we', 'have', 'to', 'bear', 'in', 'mind', 'that', 'this', 'has', 'got', 'to', 'be', 'more', 'challenging', 'in', 'thefuture.', 'with', 'the', 'high', 'capital', 'position,', 'and', 'with', 'also', 'the', 'higher', 'volatile', 'capital', 'components,i', 'have', 'tried', 'to', 'explain', 'to', 'you', 'with', 'the', 'oci', 'positions,', 'which', 'might', 'be', 'volatile', 'in', 'the', 'future.so', 'this', 'is', 'going', 'to', 'be', 'more', 'challenging', 'into', 'the', 'future,', 'and', 'this', 'is', 'why', 'we', 'also', 'look', 'atmanaging', 'the', 'capital', 'position', 'as', 'well', 'as', 'the', 'income', 'position', 'up', 'there.i', 'think', 'that', 'then', 'leads', 'us', 'directly', 'into', 'the', 'peer', 'comparison,', 'which', 'we', 'always', 'do.', 'i', 'think', 'weare', 'still', 'the', 'number', 'one', 'on', 'the', 'four-year', 'horizon.', 'this', 'year', 'two', 'bermudian', 'companies', 'arein', 'front', 'of', 'us,', 'so', 'i', 'think', 'that', 'is', 'not', 'very', 'surprising', 'because', 'of', 'the', 'very', 'low', 'cap', 'burdenwhich', 'the', 'industry', 'has', 'been', 'seeing.', 'so', 'in', 'that', 'regard,', 'we', 'are', 'still', 'happy,', 'and', 'we', 'are', 'stillcommitted', 'to', 'stay', 'one', 'of', 'the', 'most', 'profitable', 'reinsurers', 'in', 'the', 'industry,', 'also', 'in', 'the', 'future.so', \"let's\", 'then', 'have', 'a', 'brief', 'look', 'at', 'the', 'p&l', 'in', 'more', 'detail.', 'on', 'the', 'group', 'level,', 'i', 'think', \"it's\", 'notnecessary', 'to', 'repeat', 'the', 'growth', 'in', 'the', 'turnover', 'of', 'the', 'premium.', 'the', 'first', 'component', 'ithink', 'which', 'needs', 'some', 'explanation', 'is', 'the', 'other', 'income', 'and', 'expense', 'line', 'here.', 'we', 'havebeen', 'long', 'in', 'the', 'u.s.', 'dollar', 'and', 'other', 'non-euro', 'currencies', 'already', 'over', 'the', 'course', 'of', 'theyear.', 'and', 'in', 'so', 'far,', 'the', 'majority', 'of', 'that', 'swing', 'from', 'minus', '€100', 'million', 'to', 'plus', '€18', 'million', 'inthe', 'other', 'expense', 'line', 'is', 'based', 'on', 'the', 'currency', 'result.', 'that', 'should', 'be', 'zero,', 'if', 'i', 'managemy', 'portfolio', 'on', 'a', 'very', 'highly', 'matched', 'basis.', 'so', 'on', 'the', 'one', 'hand,', 'this', 'is', 'a', 'little', 'bit', 'of', 'oneoff.on', 'the', 'other', 'hand,', 'i', 'think', 'where', 'we', 'were', 'in', 'doubt,', 'we', 'stayed', 'little', 'bit', 'longer', 'in', 'theforeign', 'currencies', 'as', 'we', 'saw', 'the', 'euro', 'weakening,', 'especially', 'against', 'the', 'u.s.', 'dollar.', 'this', 'iswhy', 'this', 'line', 'has', 'improved', 'so', 'remarkably.moreover,', 'i', 'think', 'the', 'other', 'components', 'here', 'is', 'the', 'fee', 'income', 'on', 'those', 'contracts', 'on', 'thelife', 'side,', 'which', 'are', 'deposit', 'accounted,', 'where', 'the', 'risk', 'component', 'is', 'so', 'low', 'that', 'there', 'isno', 'reinsurance', 'treatment', 'justified', 'and', 'the', 'fee', 'income', 'is', 'reflected', 'in', 'that', 'line', 'and', 'that', 'hasbeen', 'increasing', 'as', 'well.', 'moreover,', 'we', 'have', 'been', 'rather', 'successful', 'in', 'managing', 'our', 'loccosts', 'down.', 'also,', 'that', 'is', 'mainly', 'on', 'the', 'life', 'side,', 'where', 'it', 'was', 'possible', 'to', 'decrease', 'thecosts', 'of', 'the', 'locs,', 'which', 'we,', 'in', 'the', 'majority,', 'need', 'to', 'backup', 'our', 'u.s.', 'business.the', 'tax', 'rate', 'is', 'back', 'to', 'normal.', 'you', 'might', 'remember', 'that', 'last', 'year', 'we', 'had', 'a', 'special', 'effecton', 'the', 'non-life,', 'on', 'the', 'p&c', 'side,', 'where', 'the', 'deferred', 'taxes', 'on', 'equalization', 'reservescould', 'be', 'calculated', 'a', 'little', 'bit', 'more', 'realistically', 'based', 'on', 'a', 'decision', 'for', 'the', 'german', 'taxman', 'that', 'had', 'produced', 'a', '€90', 'million', 'extraordinary', 'effect.', 'that,', 'of', 'course,', 'was', 'notrepeated', 'this', 'year.', 'we', 'are', 'still', 'a', 'little', 'bit', 'on', 'the', 'low', 'side', 'based', 'on', 'a', 'very', 'positive', 'result', 'inbermuda', 'where', 'the', 'tax', 'rate', 'is', 'zero', 'and', 'where', 'our', 'cat', 'business', 'is', 'written', 'mainly,', 'so', 'thecontribution', 'from', 'the', 'low', 'tax', 'environments', 'had', 'been', 'a', 'little', 'bit', 'over', 'proportional;', 'samegoes', 'for', 'the', 'life', 'business,', 'which', 'we', 'write', 'in', 'bermuda.', 'so', 'this', 'is', 'why', 'the', 'overall', 'tax', 'rate', 'isa', 'little', 'bit', 'lower', 'than', 'what', 'we', 'would', 'expect', 'for', 'a', 'normalized', 'tax', 'ratio,', 'which', 'should', 'bearound', '25%', 'on', 'a', 'group', 'level.a', 'brief', 'look', 'at', 'the', 'p&c', 'side.', 'we', 'see', 'a', 'slight', 'growth.', 'the', '1.2%', 'on', 'a', 'currency', 'adjustedbasis,', 'which', 'is', 'nice', 'and', 'which', 'follows', 'our', 'guidance.', 'would', 'this', 'number', 'have', 'beennegative', 'that', 'would', 'not', 'have', 'been', 'a', 'problem', 'at', 'all.', 'it', 'is', 'positively', 'influenced', 'by', 'some', 'lowrisk,', 'low', 'margin', 'chinese', 'surplus', 'relief', 'contracts', 'which', 'we', 'sometimes', 'write,', 'sometimesthe', 'margins', 'are', 'not', 'sufficient.', 'so', 'again,', \"it's\", 'nice', 'to', 'see', 'it', 'growing.', 'but', 'if', 'that', 'would', 'havebeen', 'a', 'negative', 'number,', 'we', 'would', 'not', 'be', 'concerned', 'at', 'all.the', 'burden', 'or', 'the', 'net', 'retention', 'has', 'increased', 'slightly,', 'so', 'we', 'pay', 'a', 'little', 'bit', 'less', 'for', 'ourrepossessions,', 'which', 'makes', 'itself', 'felt', 'here', 'that', 'the', 'net', 'premium', 'income', 'is', 'growing', 'a', 'littlebit', 'more', 'than', 'the', 'gross.major', 'losses.', 'i', 'think', 'uli', 'has', 'already', 'mentioned', 'the', 'large', 'loss', 'budget', 'was', '€670', 'million;€244', 'million', 'of', 'that', 'budget', 'was', 'unused.', 'and', 'in', 'that', 'regard,', 'it', 'was', 'the', 'third', 'very', 'large', '–low', 'large', 'loss', 'number', 'in', 'a', 'row,', 'which', 'of', 'course', 'also', 'as', 'its', 'impact', 'on', 'the', 'competition', 'onthe', 'market.', 'perhaps', '–', 'and', 'also', 'that', 'was', 'mentioned', 'by', \"uli.let's\", 'discuss', 'a', 'little', 'bit', 'our', 'reserving', 'policy.', 'if', 'you', 'look', 'at', 'the', 'annual', 'result', 'and', 'the', 'run-offtriangles,', 'you', 'will', 'see', 'a', 'positive', 'run-off', 'of', '€270', 'million.', 'i', 'think', 'that', 'is', 'really', 'fully', 'in', 'line', 'withwhat', 'i', 'was', 'trying', 'to', 'explain', 'at', 'the', 'occasion', 'of', 'the', 'investors', 'day,', 'an', 'approximately', '€50million', 'positive', 'run-off', 'would', 'be', 'expected', 'per', 'quarter,', 'a', 'little', 'bit', 'more', 'than', 'that', 'for', 'theyear.so', 'there', 'are', 'no', 'extraordinary', 'unusual', 'effects', 'of', 'run-off', 'result.', 'i', 'would', 'refer', 'to', 'mypresentation', 'at', 'the', 'same', 'place', 'a', 'few', 'months', 'ago', 'where', 'i', 'was', 'trying', 'to', 'explain', 'theimpacts', 'which', 'could', 'be', 'there', 'on', 'the', 'confidence', 'level', 'as', 'well', 'as', 'the', 'run-off', 'result,', 'nothingextraordinary', 'here.', 'in', 'that', 'regards,', 'the', 'combined', 'ratio', 'for', 'the', 'fourth', 'quarter', 'were', '–', 'whenwe', 'read', 'your', 'first', 'comments,', 'seems', 'to', 'be', 'a', 'little', 'bit', 'disappointing.as', 'uli', 'already', 'mentioned,', 'stuck', 'to', 'our', 'reserving', 'policy.', 'we', 'have', 'most', 'likely', 'added', \"andwe're\", 'waiting', 'on', 'the', 'final', 'results', 'of', 'the', 'reserve', 'studies.', 'but', 'we', 'will', 'most', 'likely', 'have', 'edit', 'tothe', 'reserve', 'redundancies,', 'which', 'our', 'coo', 'always', 'presents', 'to', 'you', 'at', 'the', 'occasion', 'of', 'theinvestors', 'day.', 'we', 'have', 'to', 'bear', 'in', 'mind', 'that', 'also', 'the', 'volume', 'of', 'the', 'reserves', 'has', 'increasedbased', 'on', 'the', 'currency', 'exchange', 'rate.', 'so', 'percentage-wise,', 'we', 'might', 'have', 'keep', 'or', 'keptthe', 'overall', 'confidence', 'level', 'flat.', 'but', 'in', 'absolute', 'terms,', 'we', 'will', 'have', 'increased', 'within', 'thereserves', 'numbers,', 'which', 'you', 'might', 'remember', 'was', '€1.5', 'billion', 'based', 'on', 'the', 'last', 'study.and', 'that', 'then', 'also', 'explains', 'a', 'little', 'bit', 'why', 'the', 'fourth', 'quarter', 'effect,', 'which', 'you', 'hadexpected', 'in', 'the', 'combined', 'ratio', 'has', 'not', 'taken', 'place', 'to', 'such', 'an', 'extent.i', 'think', \"that's\", 'it.', \"let's\", 'look', 'at', 'the', 'mtcr', 'and', 'the', 'achievements', 'of', 'the', 'year', 'per', 'market', 'on', 'thep&c', 'side.', 'the', 'margins', 'are', 'getting', 'a', 'little', 'bit', 'narrower.', 'still,', 'even', 'if', 'you', 'back', 'out', 'the', 'verypositive', 'cat', 'result,', 'we', 'would', 'still', 'have', 'made', 'it', 'and', 'the', 'overall', 'result', 'of', 'the', 'business', 'wouldhave', 'been', 'still', 'profitable.', 'we', \"shouldn't\", 'fool', 'ourselves,', 'a', 'combined', 'ratio', 'of', '39.3%', 'isnothing', 'which', 'we', 'could', 'really', 'see', 'also', 'in', 'the', 'future.', 'and', \"it's\", 'so', 'far', 'a', 'large', 'cat', 'year', 'mightmake', 'the', 'overall', 'p&c', 'result', 'getting', 'nearer', 'to', 'the', 'breakeven', 'point', 'and', \"it's\", 'good', 'to', 'havebuffers,', 'if', 'that', 'happens.apart', 'from', 'that,', 'again,', 'we', 'can', 'briefly', 'look', 'at', 'the', 'north', 'america', 'business,', 'still', 'profitable,below', 'the', 'hurdle', '–', 'or', 'over', 'and', 'above', 'the', 'hurdle.', 'the', 'continental', 'europe', 'positive', 'withgermany', 'also', 'better', 'than', 'it', 'used', 'to', 'be.', 'the', 'marine', 'business,', 'after', 'the', 'big', 'losses,', 'sandy,of', 'course,', 'the', 'concordia.', 'very', 'profitable', 'aviation,', 'we', 'know', 'what', 'happened', 'there,', 'thetripoli', 'airport', 'as', 'well', 'as', 'the', 'malaysian', 'airline', 'disasters,', 'of', 'course,', 'hit', 'that.', 'credit,', 'suretyprofitable.', 'uk,', 'london', 'market', 'and', 'direct,', 'we', 'still', 'had', 'a', 'little', 'bit', 'of', 'problem', 'on', 'somecasualty', 'accounts', 'where', 'we', 'were', 'looked', 'at', 'conservatively.', 'we', 'expect', 'that', 'to', 'be', 'farbetter', 'in', 'the', 'future.', 'the', 'worldwide', 'treaty', 'on', 'the', 'edge.', 'cat,', 'of', 'course,', 'i', 'mentioned', 'thatvery', 'profitable', 'and,', 'of', 'course,', 'the', 'basis', 'for', 'also', 'the', 'overachievement.', 'structuredreinsurance', 'very', 'positive', 'and', 'making', 'the', 'margin', 'by', 'far,the', 'major', 'losses,', 'i', 'mentioned,', 'you', 'can', 'see', 'that', 'here', 'very', 'clearly', 'three', 'years', 'in', 'a', 'row.and', 'if', 'you', 'add', 'all', 'the', 'under', 'or', 'those', 'amounts', 'for', 'the', 'last', 'three', 'years', 'where', 'we', 'wereunder', 'the', 'budgeted', 'loss', 'large', 'numbers,', 'that', 'accounts', 'for', '€400', 'million.so', 'the', '€426', 'million', 'which', 'you', 'see', 'here', 'as', 'compared', 'to', 'the', '€670', 'million;', 'the', '€578', 'millionas', 'compared', 'to', '€625', 'million,', 'but', 'if', 'you', 'then', 'go', 'back', 'to', 'the', 'year', '2011,', 'you', 'see', 'that', 'all', 'thiswhat', 'we', 'have', 'saved', 'within', 'over', 'the', 'last', 'three', 'years', 'can', 'be', 'gone', 'within', 'one', 'year.', 'and', 'inthat', 'regard,', 'we', 'should', 'always', 'bear', 'that', 'in', 'mind', 'and', 'not', 'fool', 'ourselves', 'that', 'the', 'verypositive', 'results', 'in', 'this', 'segment', 'might', 'go', 'on', 'forever.you', 'see', 'the', 'large', 'losses,', 'the', 'single', 'ones,', 'not', 'a', 'real', 'single', 'one', 'was', 'a', 'very', 'major', 'loss.', 'onthe', 'cat', 'side,', 'clearly,', 'below', 'the', 'budget', 'with', 'the', 'storm', 'ela', 'in', 'germany,', 'belgium', 'and', 'in', 'thenetherlands', 'with', 'the', 'highest', 'large', 'loss', 'burden', 'of', 'around', '€50', 'million', 'for', 'our', 'account,', 'theaviation', 'claims', 'with', 'tripoli', 'and', 'the', 'malaysian', 'airline', 'loses,', 'as', 'i', 'already', 'mentioned.', 'overall,as', 'i', 'mentioned,', '€244', 'million', 'below', 'our', 'budget.', 'so', 'another', 'friendly', 'pack', 'picture,', 'althoughnot', 'a', 'glamorous', 'picture.if', 'we', 'look', 'at', 'the', 'life', '&', 'health', 'reinsurance,', 'we', 'did', 'various', 'longevity', 'deals.', 'we', 'took', 'benefitfrom', 'the', 'improved', 'and', 'the', 'hardening', 'rates', 'in', 'australia', 'and', 'these', 'were', 'the', 'major', 'profitdrivers.', 'we', 'did', 'retrocede', 'some', 'of', '–', 'especially', 'the', 'longevity', 'deals.', 'this', 'is', 'why', 'the', 'netretention', 'goes', 'down', 'on', 'the', 'technical', 'side.', 'uli', 'mentioned', 'that', 'the', 'australian', 'dii', 'businessdid', 'really', 'well,', 'fully', 'in', 'line', 'with', 'our', 'expectations,', 'even', 'slightly', 'better.', 'so', 'that', 'explains', 'theimprovement', 'here.', 'the', 'u.s.', 'mortality', 'still', 'slightly', 'below', 'our', 'expectations,', 'but', 'no', 'badsurprises', 'here', 'as', 'well.', 'and', 'this', 'is', 'then', 'the', 'basis', 'for', 'the', 'remarkable', 'improvement.the', 'other', 'income', 'here', 'also', 'is', 'usually', 'better', 'than', 'on', 'the', 'p&c', 'side.', 'it', 'did', 'benefit', 'also', 'fromcurrency', 'exchange', 'rates.', 'but', 'here', 'even', 'also', 'from', 'the', 'fee', 'income', 'of', 'our', 'depositedaccounting,', 'especially', 'the', 'financial', 'reinsurance', 'contracts', 'which', 'have', 'improved', 'as', 'imentioned', 'before.margin-wise,', 'i', 'think', 'we', 'are', 'rather', 'happy', 'financial', 'solutions,', 'impressive', 'margins,', 'that', 'is', 'thebusiness', 'we', 'especially', 'write', 'in', 'the', 'u.s.,', 'where', 'our', 'colleagues', 'do', 'provide', 'coverage', 'forthe', 'balance', 'sheet', 'or', 'for', 'the', 'local', 'balance', 'sheet', 'especially.', 'and', 'that', 'is', 'improving', 'andgrowing', 'nicely.', 'the', 'longevity', 'also', 'over', 'and', 'above', 'the', 'target.the', 'mortality', 'and', 'morbidity', 'business,', 'as', 'i', 'mentioned,', 'the', 'u.s.', 'mortality', 'business,', 'some', 'ofthat', 'business', 'still', 'not', 'fully', 'in', 'line', 'with', 'our', 'expectations.', 'and', 'here', 'we', 'can', 'come', 'back', 'tothat', 'one', 'u.s.', 'house', 'contract,', 'mobility', 'contract,', 'which', 'we', 'no', 'longer', 'write,', 'where', 'welooked', 'at', 'reserves', 'and', 'increased', 'the', 'reserves', 'or', 'incurred', 'some', 'losses,', 'especially', 'in', 'thefourth', 'quarter.', 'again,', 'we', 'no', 'longer', 'write', 'that', 'business,', 'so', 'this', 'will', 'not', 'reoccur.and', 'this', 'is', 'also', 'the', 'reason', 'as', 'to', 'why', 'we', 'look', 'very', 'positive', 'into', 'the', 'future,', 'even', 'betternews,', 'if', 'we', 'turn', 'the', 'page', 'and', 'have', 'a', 'very,', 'very', 'brief', 'look', 'at', 'the', 'mcev.', 'that', 'is', 'hot', 'offpress.', 'for', 'the', 'first', 'time,', 'we', 'managed', 'to', 'present', 'the', 'market', 'consistent', 'embedded', 'valuenumbers,', 'together', 'with', 'our', 'year-end', 'results.', 'and', 'we', 'have', 'demonstrated', '–', 'or', 'in', 'ourpresentation', 'only', 'the', 'major', 'numbers.', 'you', 'will', 'find', 'the', 'details', 'if', \"you're\", 'interested,', 'if', 'youbelieve', 'in', 'mcevs,', 'then', 'you', 'will', 'find', 'the', 'numbers', 'in', 'the', 'appendix', 'and', 'on', 'the', 'website,especially', 'the', 'very', 'brand', 'new', 'website', 'of', 'hannover', 're,', 'which', 'i', 'think', 'is', 'worth', 'visitinganyway.the', 'mcev', 'has', 'increased', 'by', '16%', 'and', 'is', 'now', 'nearly', '€4.3', 'billion.', 'i', 'think', 'even', 'moreimportantly', 'the', 'value', 'of', 'new', 'business', 'is', 'for', 'three', 'or', 'even', 'four', 'years', 'in', 'a', 'row', 'now', 'havevery', 'high', 'level,', 'over', 'and', 'above', 'our', 'threshold', 'of', 'the', 'target', 'metrics', 'with', '€448', 'million,again,', 'another', 'new', 'record.', 'again,', 'this', 'is', 'profit', 'which', 'we', 'will', 'earn,', 'also,', 'long-term', 'up', 'until20', 'years,', '30', 'years.', 'still', 'with', 'more', 'than', 'a', 'billion', 'euros', 'of', 'new', 'business', 'value', 'over', 'the', 'lastthree', 'years,', 'we', 'are', 'very', 'confident', 'that', 'also', 'the', 'ifrs', 'result', 'will', 'improve', 'remarkably', 'in', 'nextyears', 'to', 'come.perhaps', 'not', 'mentioned', 'on', 'this', 'page,', 'but', 'still', 'important', 'is', 'the', 'mcev', 'or', 'market', 'consistentembedded', 'value', 'not', 'recognized', 'on', 'the', 'balance', 'sheet.', 'that', 'increased', 'from', '€1.10', 'billion', 'to€1.12', 'billion,', 'which', 'is', 'also', 'an', 'increase', 'of', 'more', 'than', '€100', 'million.', 'and', 'again,', 'if', 'you', 'believe', 'inmcev', 'numbers,', 'that', 'is', 'another', 'off-balance', 'sheet', 'value', 'which', 'hannover', 're', 'carries.so', 'to', 'come', 'to', 'the', 'investment', 'side.', 'the', 'roe', 'target,', 'from', 'my', 'point', 'of', 'view,', 'as', \"i'mresponsible\", 'for', 'that', 'segment,', 'of', 'course,', 'i', 'look', 'at', 'that', 'even', 'a', 'little', 'bit', 'closer.', 'it', 'is', 'a', 'little', 'bitunderrepresented', 'or', 'underestimated', 'when', 'we', 'show', 'it', 'here.', 'it', 'includes', 'the', 'technicalderivatives,', 'which', 'you', 'see', 'as', 'the', 'change', 'in', 'fair', 'value', 'of', 'financial', 'instruments.', 'that', 'is', 'themodco', 'derivatives', 'as', 'well', 'as', 'the', 'inflation', 'swaps.', 'if', 'we', 'back', 'that', 'out,', 'what', 'we', 'do', 'in', 'ourtarget', 'metrics,', 'so', 'always', 'the', 'positives', 'and', 'the', 'negatives,', 'we', 'end', 'up', 'at', '3.3%', 'roi,', 'which', 'isa', 'little', 'bit', 'over', 'and', 'above', 'our', 'target.if', 'i', 'come', 'back', 'very', 'briefly', 'to', 'the', 'impact', 'of', 'our', 'subordinated', 'bond', 'redemption', 'andreinvestment,', 'so', 'here', 'we', 'do', 'calculate', 'with', 'the', 'assets', 'beginning', 'of', 'the', 'year,', 'assets', 'endof', 'the', 'year,', 'divide', 'that', 'by', 'two.', 'of', 'course,', 'the', 'seven', 'months', 'where', 'i', \"didn't\", 'have', 'thatmoney', 'are', 'not', 'included', 'in', 'that,', 'so', 'also', 'that', 'is', 'a', 'little', 'bit', 'of', 'reason', 'why', 'the', 'numbers', 'hereare', 'a', 'little', 'bit', 'underrepresented.', 'the', 'realized', 'gains', 'and', 'losses,', 'again,', 'uli', 'mentioned', 'thatalready,', 'we', 'had', 'some', 'turnover', 'in', 'the', 'portfolio', 'which', 'created', 'these', 'losses.', 'apart', 'fromthat,', 'there', 'were', 'no', 'real', 'surprises,', 'impairments', 'and', 'appreciations', 'driven', 'by', 'regulardepreciations', 'on', 'the', 'real', 'estate', 'portfolio.', 'so', 'again,', 'nothing', 'extraordinary', 'to', 'write-off.', 'andwith', 'nearly', '$1.1', 'billion', 'net', 'investment', 'income,', 'we', 'are', 'happy.', 'and', 'again,', 'it', 'is', 'a', 'little', 'bit', 'morethan', 'we', 'had', 'expected.it', 'is', 'interesting', 'to', 'look', 'at', 'the', 'bottom', 'of', 'that', 'page', 'what', 'happened', 'to', 'our', 'valuationreserves.', 'i', 'had', 'addressed', 'that', 'already', 'various', 'times.', 'we', 'have', 'now', 'here', 'the', 'on-balancesheet', 'valuation', 'reserves.', 'those', 'are', 'the', 'investments', 'we', 'account', 'for', 'at', 'available-for-sale.the', 'off-balance', 'sheet', 'values', 'that', 'is', 'what', 'we', 'have', 'as', 'hold-to-maturity', 'or', 'what', '(40:49)', 'orothers', 'which', 'we', 'do', 'account', 'at', 'amortized', 'costs.', 'altogether,', 'that', 'number', 'has', 'doubledfrom', '€1.1', 'billion', 'to', 'more', 'than', '–', 'or', 'nearly', '$2.3', 'billion,', 'and', 'we', 'have', 'not', 'taken', 'advantage', 'ofthat', 'by', 'realizing', 'more.', 'that', 'is', 'a', 'buffer', 'for', 'potential', 'yield', 'increases', 'in', 'the', 'future.a', 'brief', 'look', 'and', 'final', 'look', '–', 'before', 'i', 'ask', 'uli', 'to', 'present', 'to', 'you', 'then', 'the', 'outlook,', 'at', 'theasset', 'allocation.', 'that', 'is', 'rather', 'stable.', 'the', 'corporate', 'portfolio', 'has', 'increased', 'to', '35%,', 'alittle', 'bit', 'more.', 'there', 'is', 'nothing', 'more', 'to', 'be', 'expected.', 'the', 'covered', 'bonds', 'have', 'gonedown', 'a', 'little', 'bit', 'here.', 'a', 'competitive', 'investor,', 'especially', 'by', 'the', 'end', 'of', 'last', 'year,', 'was', 'therewith', 'ease', 'at', 'peak.', 'also,', 'competing', 'to', 'buy', 'these', 'issues,', 'so', 'that', 'has', 'come', 'down', 'a', 'little', 'bitas', 'also', 'the', 'prices', 'went', 'down', 'remarkably.the', 'real', 'estate', 'is', 'developing', 'as', 'well', 'as', 'the', 'private', 'equity.', 'so', 'we', 'keep', 'these', 'portionsstable.', 'and', 'we', 'will', 'hear', 'in', 'a', 'second', 'that', 'with', 'the', 'reinvestment', 'yields', 'we', 'do', 'invest', 'today,are', 'amounts', 'of', 'around', '1.7,', '1.8.', 'the', 'expectations', 'for', 'the', 'next', 'year', 'is', 'around', '3.15', 'roi.', 'withincreased', 'assets', 'under', 'our', 'own', 'management,', 'we', 'estimate', 'the', 'return', 'from', 'the', '–', 'or', 'thenet', 'investment', 'income,', 'again', 'in', 'the', 'range', 'of', 'the', 'previous', 'year.i', 'think', 'with', 'that', 'i', 'conclude', 'my', 'details', 'and', 'uli,', 'the', 'floor', 'is', 'yours', 'with', 'the', 'target', 'metrics.sorry.'], tags=[0])]"
      ]
     },
     "execution_count": 37,
     "metadata": {},
     "output_type": "execute_result"
    }
   ],
   "source": [
    "# Transform data\n",
    "analyzedDocument = namedtuple('AnalyzedDocument', 'words tags')\n",
    "\n",
    "docs = []\n",
    "for i, text in enumerate(paragraphs):\n",
    "    words = text.lower().split()\n",
    "    tags = [i]\n",
    "    docs.append(analyzedDocument(words, tags))\n",
    "\n",
    "docs"
   ]
  },
  {
   "cell_type": "raw",
   "id": "9f95a885",
   "metadata": {
    "ExecuteTime": {
     "end_time": "2022-05-19T10:45:11.867312Z",
     "start_time": "2022-05-19T10:45:10.812318Z"
    }
   },
   "source": [
    "# train model\n",
    "model = doc2vec.Doc2Vec(docs, \n",
    "                        vector_size = 1000, #Dimensionality of the feature vectors.\n",
    "                        window = 300, #The maximum distance between the current and predicted word within a sentence.\n",
    "                        min_count = 1, #the minimum count threshold\n",
    "                        workers = 4 #Use these many worker threads to train the model (=faster training with multicore machines).\n",
    "                        )"
   ]
  },
  {
   "cell_type": "code",
   "execution_count": 38,
   "id": "b948bc86",
   "metadata": {
    "ExecuteTime": {
     "end_time": "2022-05-19T10:54:56.436024Z",
     "start_time": "2022-05-19T10:54:56.361574Z"
    }
   },
   "outputs": [],
   "source": [
    "# train model\n",
    "model_simple = doc2vec.Doc2Vec(docs)"
   ]
  },
  {
   "cell_type": "code",
   "execution_count": 39,
   "id": "b4862ff0",
   "metadata": {
    "ExecuteTime": {
     "end_time": "2022-05-19T10:54:58.161423Z",
     "start_time": "2022-05-19T10:54:58.153472Z"
    }
   },
   "outputs": [
    {
     "data": {
      "text/plain": [
       "array([ 1.43894362e+00, -3.07784706e-01,  3.72078747e-01,  6.29902065e-01,\n",
       "       -4.39781010e-01,  7.19422817e-01, -1.45024538e+00, -4.19847816e-01,\n",
       "       -6.62707686e-01,  4.69563663e-01, -1.15477431e+00,  2.67640173e-01,\n",
       "       -6.54998302e-01,  5.97481012e-01,  4.00561184e-01, -1.34924471e+00,\n",
       "        1.18133199e+00, -6.20892823e-01, -1.75866938e+00, -6.27119243e-01,\n",
       "        6.22953594e-01, -1.34085774e+00,  1.24088657e+00,  1.11917925e+00,\n",
       "       -1.21579146e+00, -5.06316066e-01, -7.89430022e-01,  1.08247030e+00,\n",
       "        4.07786459e-01, -2.00691581e-01,  6.16155684e-01, -1.00736332e+00,\n",
       "        1.20964861e+00, -1.46297884e+00, -8.27356502e-02, -9.56300139e-01,\n",
       "        1.86405256e-01,  5.67567050e-01, -7.18522668e-01, -2.85842031e-01,\n",
       "       -2.10352093e-01,  4.42788869e-01,  6.32031560e-01, -2.02542350e-01,\n",
       "        6.57561421e-01, -5.88323414e-01,  6.44353330e-01,  7.90112853e-01,\n",
       "        6.66762590e-01,  3.99003863e-01, -6.16689503e-01, -2.47758225e-01,\n",
       "       -8.56146991e-01,  5.91091275e-01, -3.59284729e-01, -5.71332097e-01,\n",
       "        6.80278093e-02,  1.45504546e+00, -4.22481418e-01,  8.46770465e-01,\n",
       "        1.14946604e+00,  1.61870897e+00, -1.86075910e-03,  9.41687971e-02,\n",
       "       -5.65544963e-01,  4.53883171e-01, -2.64687628e-01, -4.52856481e-01,\n",
       "       -1.95477593e+00, -1.10332441e+00, -7.64280498e-01, -1.27286839e+00,\n",
       "        7.32934177e-01, -1.31392860e+00,  7.84811258e-01, -1.14407456e+00,\n",
       "        1.45568371e+00,  1.29344380e+00,  4.57006454e-01, -8.53401959e-01,\n",
       "       -1.22246094e-01, -1.42304039e+00,  1.76931870e+00, -1.34284437e-01,\n",
       "        7.04295516e-01,  3.28883886e-01,  3.81756186e-01, -2.62814045e-01,\n",
       "       -5.28517962e-01, -3.89176041e-01,  1.53212988e+00, -5.97725749e-01,\n",
       "        7.35816360e-01, -1.32988811e+00,  4.52873409e-01,  1.20445335e+00,\n",
       "        1.15819228e+00,  8.34864616e-01,  3.16545933e-01,  6.36849046e-01],\n",
       "      dtype=float32)"
      ]
     },
     "execution_count": 39,
     "metadata": {},
     "output_type": "execute_result"
    }
   ],
   "source": [
    "# Get the vectors\n",
    "model_simple.docvecs[0]"
   ]
  },
  {
   "cell_type": "markdown",
   "id": "05e78bd8",
   "metadata": {},
   "source": [
    "# For twitter sample"
   ]
  },
  {
   "cell_type": "code",
   "execution_count": null,
   "id": "10078bbd",
   "metadata": {},
   "outputs": [],
   "source": [
    "import pandas as pd\n",
    "\n",
    "from gensim.models import doc2vec\n",
    "from collections import namedtuple"
   ]
  },
  {
   "cell_type": "code",
   "execution_count": null,
   "id": "0d1fe1d7",
   "metadata": {},
   "outputs": [],
   "source": [
    "import numpy as np\n",
    "import pandas as pd\n",
    "\n",
    "import re\n",
    "import string \n",
    "\n",
    "from collections import Counter\n",
    "\n",
    "from sklearn.model_selection import train_test_split\n",
    "from sklearn.pipeline import Pipeline\n",
    "from sklearn.naive_bayes import MultinomialNB\n",
    "from sklearn.feature_extraction.text import CountVectorizer, TfidfTransformer\n",
    "from sklearn.metrics import confusion_matrix,classification_report, accuracy_score\n",
    "from sklearn.linear_model import LogisticRegression"
   ]
  },
  {
   "cell_type": "code",
   "execution_count": null,
   "id": "790d9d29",
   "metadata": {},
   "outputs": [],
   "source": [
    "import nltk \n",
    "nltk.download('twitter_samples')\n",
    "from nltk.corpus import twitter_samples\n",
    "from nltk.corpus import stopwords          # module for stop words that come with NLTK\n",
    "nltk.download('stopwords')\n",
    "from nltk.stem import PorterStemmer        # module for stemming\n",
    "from nltk.tokenize import TweetTokenizer   # module for tokenizing strings"
   ]
  },
  {
   "cell_type": "code",
   "execution_count": null,
   "id": "c0852933",
   "metadata": {},
   "outputs": [],
   "source": [
    "twitter_samples.fileids()"
   ]
  },
  {
   "cell_type": "code",
   "execution_count": null,
   "id": "7f1edf5d",
   "metadata": {},
   "outputs": [],
   "source": [
    "# documents\n",
    "docs_negative = [(t, \"neg\") for t in twitter_samples.strings(\"negative_tweets.json\")]\n",
    "docs_positive = [(t, \"pos\") for t in twitter_samples.strings(\"positive_tweets.json\")]\n",
    "print(f'There are {len(docs_negative)} negative sentences.')\n",
    "print(f'There are {len(docs_positive)} positive sentences.')"
   ]
  },
  {
   "cell_type": "code",
   "execution_count": null,
   "id": "f27bf721",
   "metadata": {},
   "outputs": [],
   "source": [
    "# spliting dataset \n",
    "train_set = docs_negative[:3500] + docs_positive[:3500]\n",
    "test_set = docs_negative[3500:4250] + docs_positive[3500:4250]\n",
    "valid_set = docs_negative[4250:] + docs_positive[4250:]"
   ]
  },
  {
   "cell_type": "code",
   "execution_count": null,
   "id": "59d1b09e",
   "metadata": {},
   "outputs": [],
   "source": [
    "# clean text\n",
    "def process_text(text):\n",
    "    stemmer = PorterStemmer()\n",
    "    stopwords_english = stopwords.words('english')\n",
    "    #text = text.str\n",
    "    text = str(text)\n",
    "    text = re.sub(r'\\$\\w*', '', text)\n",
    "    text = re.sub(r'^RT[\\s]+', '', text)\n",
    "    text = re.sub(r'https?:\\/\\/.*[\\r\\n]*', '', text)\n",
    "    text = re.sub(r'#', '', text)\n",
    "    tokenizer = TweetTokenizer(preserve_case=False, strip_handles=True,reduce_len=True)\n",
    "    text_tokens = tokenizer.tokenize(text)\n",
    "\n",
    "    text_clean = []\n",
    "    for word in text_tokens:\n",
    "        if (word not in stopwords_english and  \n",
    "                word not in string.punctuation): \n",
    "            stem_word = stemmer.stem(word)  # stemming word\n",
    "            text_clean.append(stem_word)\n",
    "            \n",
    "    sentence = ' '.join(text_clean)\n",
    "    \n",
    "    return sentence"
   ]
  },
  {
   "cell_type": "code",
   "execution_count": null,
   "id": "01e02b1b",
   "metadata": {},
   "outputs": [],
   "source": []
  },
  {
   "cell_type": "code",
   "execution_count": null,
   "id": "00f211b2",
   "metadata": {},
   "outputs": [],
   "source": [
    "# Transform data\n",
    "analyzedDocument = namedtuple('AnalyzedDocument', 'words tags')\n",
    "\n",
    "docs = []\n",
    "for i, text in enumerate(paragraphs):\n",
    "    words = text.lower().split()\n",
    "    tags = [i]\n",
    "    docs.append(analyzedDocument(words, tags))\n",
    "\n",
    "docs"
   ]
  },
  {
   "cell_type": "code",
   "execution_count": null,
   "id": "bf3c4f0c",
   "metadata": {},
   "outputs": [],
   "source": []
  }
 ],
 "metadata": {
  "kernelspec": {
   "display_name": "Python 3 (ipykernel)",
   "language": "python",
   "name": "python3"
  },
  "language_info": {
   "codemirror_mode": {
    "name": "ipython",
    "version": 3
   },
   "file_extension": ".py",
   "mimetype": "text/x-python",
   "name": "python",
   "nbconvert_exporter": "python",
   "pygments_lexer": "ipython3",
   "version": "3.9.7"
  },
  "toc": {
   "base_numbering": 1,
   "nav_menu": {},
   "number_sections": true,
   "sideBar": true,
   "skip_h1_title": false,
   "title_cell": "Table of Contents",
   "title_sidebar": "Contents",
   "toc_cell": false,
   "toc_position": {
    "height": "calc(100% - 180px)",
    "left": "10px",
    "top": "150px",
    "width": "165px"
   },
   "toc_section_display": true,
   "toc_window_display": true
  },
  "varInspector": {
   "cols": {
    "lenName": 16,
    "lenType": 16,
    "lenVar": 40
   },
   "kernels_config": {
    "python": {
     "delete_cmd_postfix": "",
     "delete_cmd_prefix": "del ",
     "library": "var_list.py",
     "varRefreshCmd": "print(var_dic_list())"
    },
    "r": {
     "delete_cmd_postfix": ") ",
     "delete_cmd_prefix": "rm(",
     "library": "var_list.r",
     "varRefreshCmd": "cat(var_dic_list()) "
    }
   },
   "types_to_exclude": [
    "module",
    "function",
    "builtin_function_or_method",
    "instance",
    "_Feature"
   ],
   "window_display": false
  }
 },
 "nbformat": 4,
 "nbformat_minor": 5
}
